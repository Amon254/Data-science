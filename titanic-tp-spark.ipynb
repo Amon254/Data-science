{
 "cells": [
  {
   "cell_type": "markdown",
   "metadata": {
    "papermill": {
     "duration": 0.040328,
     "end_time": "2020-12-08T12:17:16.425460",
     "exception": false,
     "start_time": "2020-12-08T12:17:16.385132",
     "status": "completed"
    },
    "tags": []
   },
   "source": [
    "# LIBRAIRIE"
   ]
  },
  {
   "cell_type": "code",
   "execution_count": 1,
   "metadata": {
    "_cell_guid": "79c7e3d0-c299-4dcb-8224-4455121ee9b0",
    "_uuid": "d629ff2d2480ee46fbb7e2d37f6b5fab8052498a",
    "execution": {
     "iopub.execute_input": "2020-12-08T12:17:16.510888Z",
     "iopub.status.busy": "2020-12-08T12:17:16.510129Z",
     "iopub.status.idle": "2020-12-08T12:17:18.509807Z",
     "shell.execute_reply": "2020-12-08T12:17:18.509064Z"
    },
    "papermill": {
     "duration": 2.045394,
     "end_time": "2020-12-08T12:17:18.509952",
     "exception": false,
     "start_time": "2020-12-08T12:17:16.464558",
     "status": "completed"
    },
    "tags": []
   },
   "outputs": [],
   "source": [
    "import pandas as pd\n",
    "import numpy as np\n",
    "import plotly_express as px\n",
    "import matplotlib.pyplot as plt\n",
    "import seaborn as sns"
   ]
  },
  {
   "cell_type": "markdown",
   "metadata": {
    "papermill": {
     "duration": 0.03875,
     "end_time": "2020-12-08T12:17:18.588361",
     "exception": false,
     "start_time": "2020-12-08T12:17:18.549611",
     "status": "completed"
    },
    "tags": []
   },
   "source": [
    "# IMPORT DATA"
   ]
  },
  {
   "cell_type": "code",
   "execution_count": 2,
   "metadata": {
    "execution": {
     "iopub.execute_input": "2020-12-08T12:17:18.673790Z",
     "iopub.status.busy": "2020-12-08T12:17:18.673014Z",
     "iopub.status.idle": "2020-12-08T12:17:18.704940Z",
     "shell.execute_reply": "2020-12-08T12:17:18.704184Z"
    },
    "papermill": {
     "duration": 0.077606,
     "end_time": "2020-12-08T12:17:18.705067",
     "exception": false,
     "start_time": "2020-12-08T12:17:18.627461",
     "status": "completed"
    },
    "tags": []
   },
   "outputs": [],
   "source": [
    "train = pd.read_csv(\"../input/titanic/train.csv\")\n",
    "test = pd.read_csv(\"../input/titanic/test.csv\")\n",
    "gender = pd.read_csv(\"../input/titanic/gender_submission.csv\")"
   ]
  },
  {
   "cell_type": "code",
   "execution_count": 3,
   "metadata": {
    "execution": {
     "iopub.execute_input": "2020-12-08T12:17:18.792091Z",
     "iopub.status.busy": "2020-12-08T12:17:18.791181Z",
     "iopub.status.idle": "2020-12-08T12:17:18.796377Z",
     "shell.execute_reply": "2020-12-08T12:17:18.795742Z"
    },
    "papermill": {
     "duration": 0.05144,
     "end_time": "2020-12-08T12:17:18.796499",
     "exception": false,
     "start_time": "2020-12-08T12:17:18.745059",
     "status": "completed"
    },
    "tags": []
   },
   "outputs": [
    {
     "data": {
      "text/plain": [
       "(891, 12)"
      ]
     },
     "execution_count": 3,
     "metadata": {},
     "output_type": "execute_result"
    }
   ],
   "source": [
    "train.shape"
   ]
  },
  {
   "cell_type": "code",
   "execution_count": 4,
   "metadata": {
    "execution": {
     "iopub.execute_input": "2020-12-08T12:17:18.898878Z",
     "iopub.status.busy": "2020-12-08T12:17:18.898021Z",
     "iopub.status.idle": "2020-12-08T12:17:18.911101Z",
     "shell.execute_reply": "2020-12-08T12:17:18.911731Z"
    },
    "papermill": {
     "duration": 0.074789,
     "end_time": "2020-12-08T12:17:18.911889",
     "exception": false,
     "start_time": "2020-12-08T12:17:18.837100",
     "status": "completed"
    },
    "tags": []
   },
   "outputs": [
    {
     "data": {
      "text/html": [
       "<div>\n",
       "<style scoped>\n",
       "    .dataframe tbody tr th:only-of-type {\n",
       "        vertical-align: middle;\n",
       "    }\n",
       "\n",
       "    .dataframe tbody tr th {\n",
       "        vertical-align: top;\n",
       "    }\n",
       "\n",
       "    .dataframe thead th {\n",
       "        text-align: right;\n",
       "    }\n",
       "</style>\n",
       "<table border=\"1\" class=\"dataframe\">\n",
       "  <thead>\n",
       "    <tr style=\"text-align: right;\">\n",
       "      <th></th>\n",
       "      <th>PassengerId</th>\n",
       "      <th>Survived</th>\n",
       "      <th>Pclass</th>\n",
       "      <th>Name</th>\n",
       "      <th>Sex</th>\n",
       "      <th>Age</th>\n",
       "      <th>SibSp</th>\n",
       "      <th>Parch</th>\n",
       "      <th>Ticket</th>\n",
       "      <th>Fare</th>\n",
       "      <th>Cabin</th>\n",
       "      <th>Embarked</th>\n",
       "    </tr>\n",
       "  </thead>\n",
       "  <tbody>\n",
       "    <tr>\n",
       "      <th>0</th>\n",
       "      <td>1</td>\n",
       "      <td>0</td>\n",
       "      <td>3</td>\n",
       "      <td>Braund, Mr. Owen Harris</td>\n",
       "      <td>male</td>\n",
       "      <td>22.0</td>\n",
       "      <td>1</td>\n",
       "      <td>0</td>\n",
       "      <td>A/5 21171</td>\n",
       "      <td>7.2500</td>\n",
       "      <td>NaN</td>\n",
       "      <td>S</td>\n",
       "    </tr>\n",
       "    <tr>\n",
       "      <th>1</th>\n",
       "      <td>2</td>\n",
       "      <td>1</td>\n",
       "      <td>1</td>\n",
       "      <td>Cumings, Mrs. John Bradley (Florence Briggs Th...</td>\n",
       "      <td>female</td>\n",
       "      <td>38.0</td>\n",
       "      <td>1</td>\n",
       "      <td>0</td>\n",
       "      <td>PC 17599</td>\n",
       "      <td>71.2833</td>\n",
       "      <td>C85</td>\n",
       "      <td>C</td>\n",
       "    </tr>\n",
       "    <tr>\n",
       "      <th>2</th>\n",
       "      <td>3</td>\n",
       "      <td>1</td>\n",
       "      <td>3</td>\n",
       "      <td>Heikkinen, Miss. Laina</td>\n",
       "      <td>female</td>\n",
       "      <td>26.0</td>\n",
       "      <td>0</td>\n",
       "      <td>0</td>\n",
       "      <td>STON/O2. 3101282</td>\n",
       "      <td>7.9250</td>\n",
       "      <td>NaN</td>\n",
       "      <td>S</td>\n",
       "    </tr>\n",
       "    <tr>\n",
       "      <th>3</th>\n",
       "      <td>4</td>\n",
       "      <td>1</td>\n",
       "      <td>1</td>\n",
       "      <td>Futrelle, Mrs. Jacques Heath (Lily May Peel)</td>\n",
       "      <td>female</td>\n",
       "      <td>35.0</td>\n",
       "      <td>1</td>\n",
       "      <td>0</td>\n",
       "      <td>113803</td>\n",
       "      <td>53.1000</td>\n",
       "      <td>C123</td>\n",
       "      <td>S</td>\n",
       "    </tr>\n",
       "    <tr>\n",
       "      <th>4</th>\n",
       "      <td>5</td>\n",
       "      <td>0</td>\n",
       "      <td>3</td>\n",
       "      <td>Allen, Mr. William Henry</td>\n",
       "      <td>male</td>\n",
       "      <td>35.0</td>\n",
       "      <td>0</td>\n",
       "      <td>0</td>\n",
       "      <td>373450</td>\n",
       "      <td>8.0500</td>\n",
       "      <td>NaN</td>\n",
       "      <td>S</td>\n",
       "    </tr>\n",
       "  </tbody>\n",
       "</table>\n",
       "</div>"
      ],
      "text/plain": [
       "   PassengerId  Survived  Pclass  \\\n",
       "0            1         0       3   \n",
       "1            2         1       1   \n",
       "2            3         1       3   \n",
       "3            4         1       1   \n",
       "4            5         0       3   \n",
       "\n",
       "                                                Name     Sex   Age  SibSp  \\\n",
       "0                            Braund, Mr. Owen Harris    male  22.0      1   \n",
       "1  Cumings, Mrs. John Bradley (Florence Briggs Th...  female  38.0      1   \n",
       "2                             Heikkinen, Miss. Laina  female  26.0      0   \n",
       "3       Futrelle, Mrs. Jacques Heath (Lily May Peel)  female  35.0      1   \n",
       "4                           Allen, Mr. William Henry    male  35.0      0   \n",
       "\n",
       "   Parch            Ticket     Fare Cabin Embarked  \n",
       "0      0         A/5 21171   7.2500   NaN        S  \n",
       "1      0          PC 17599  71.2833   C85        C  \n",
       "2      0  STON/O2. 3101282   7.9250   NaN        S  \n",
       "3      0            113803  53.1000  C123        S  \n",
       "4      0            373450   8.0500   NaN        S  "
      ]
     },
     "execution_count": 4,
     "metadata": {},
     "output_type": "execute_result"
    }
   ],
   "source": [
    "train.head()"
   ]
  },
  {
   "cell_type": "code",
   "execution_count": 5,
   "metadata": {
    "execution": {
     "iopub.execute_input": "2020-12-08T12:17:19.000942Z",
     "iopub.status.busy": "2020-12-08T12:17:19.000185Z",
     "iopub.status.idle": "2020-12-08T12:17:19.193672Z",
     "shell.execute_reply": "2020-12-08T12:17:19.194253Z"
    },
    "papermill": {
     "duration": 0.24146,
     "end_time": "2020-12-08T12:17:19.194440",
     "exception": false,
     "start_time": "2020-12-08T12:17:18.952980",
     "status": "completed"
    },
    "tags": []
   },
   "outputs": [
    {
     "data": {
      "text/plain": [
       "<matplotlib.axes._subplots.AxesSubplot at 0x7fe8e93a8290>"
      ]
     },
     "execution_count": 5,
     "metadata": {},
     "output_type": "execute_result"
    },
    {
     "data": {
      "image/png": "[encoded data removed]",
      "text/plain": [
       "<Figure size 1800x720 with 1 Axes>"
      ]
     },
     "metadata": {},
     "output_type": "display_data"
    }
   ],
   "source": [
    "# proportion de valeurs manquantes\n",
    "plt.figure(figsize=(25,10))\n",
    "(train.isna().sum()/train.shape[0]).plot.pie()"
   ]
  },
  {
   "cell_type": "code",
   "execution_count": 6,
   "metadata": {
    "execution": {
     "iopub.execute_input": "2020-12-08T12:17:19.287977Z",
     "iopub.status.busy": "2020-12-08T12:17:19.287082Z",
     "iopub.status.idle": "2020-12-08T12:17:19.292055Z",
     "shell.execute_reply": "2020-12-08T12:17:19.291340Z"
    },
    "papermill": {
     "duration": 0.054387,
     "end_time": "2020-12-08T12:17:19.292175",
     "exception": false,
     "start_time": "2020-12-08T12:17:19.237788",
     "status": "completed"
    },
    "tags": []
   },
   "outputs": [
    {
     "data": {
      "text/plain": [
       "PassengerId      int64\n",
       "Survived         int64\n",
       "Pclass           int64\n",
       "Name            object\n",
       "Sex             object\n",
       "Age            float64\n",
       "SibSp            int64\n",
       "Parch            int64\n",
       "Ticket          object\n",
       "Fare           float64\n",
       "Cabin           object\n",
       "Embarked        object\n",
       "dtype: object"
      ]
     },
     "execution_count": 6,
     "metadata": {},
     "output_type": "execute_result"
    }
   ],
   "source": [
    "# les differents types \n",
    "train.dtypes"
   ]
  },
  {
   "cell_type": "markdown",
   "metadata": {
    "papermill": {
     "duration": 0.042926,
     "end_time": "2020-12-08T12:17:19.378519",
     "exception": false,
     "start_time": "2020-12-08T12:17:19.335593",
     "status": "completed"
    },
    "tags": []
   },
   "source": [
    "# Conversion des \"int\" en \"object\""
   ]
  },
  {
   "cell_type": "code",
   "execution_count": 7,
   "metadata": {
    "execution": {
     "iopub.execute_input": "2020-12-08T12:17:19.473715Z",
     "iopub.status.busy": "2020-12-08T12:17:19.472730Z",
     "iopub.status.idle": "2020-12-08T12:17:19.475194Z",
     "shell.execute_reply": "2020-12-08T12:17:19.475743Z"
    },
    "papermill": {
     "duration": 0.054106,
     "end_time": "2020-12-08T12:17:19.475904",
     "exception": false,
     "start_time": "2020-12-08T12:17:19.421798",
     "status": "completed"
    },
    "tags": []
   },
   "outputs": [],
   "source": [
    "def Convertion(data,categoriel) : \n",
    "    for col in categoriel : \n",
    "        data[col] = data[col].astype(\"object\")\n",
    "    return data\n",
    "categorie = [\"Survived\",\"Pclass\",]\n",
    "data = Convertion(train,categorie)"
   ]
  },
  {
   "cell_type": "code",
   "execution_count": 8,
   "metadata": {
    "execution": {
     "iopub.execute_input": "2020-12-08T12:17:19.578896Z",
     "iopub.status.busy": "2020-12-08T12:17:19.578060Z",
     "iopub.status.idle": "2020-12-08T12:17:19.581451Z",
     "shell.execute_reply": "2020-12-08T12:17:19.582028Z"
    },
    "papermill": {
     "duration": 0.063067,
     "end_time": "2020-12-08T12:17:19.582182",
     "exception": false,
     "start_time": "2020-12-08T12:17:19.519115",
     "status": "completed"
    },
    "tags": []
   },
   "outputs": [
    {
     "name": "stdout",
     "output_type": "stream",
     "text": [
      "<class 'pandas.core.frame.DataFrame'>\n",
      "RangeIndex: 891 entries, 0 to 890\n",
      "Data columns (total 12 columns):\n",
      " #   Column       Non-Null Count  Dtype  \n",
      "---  ------       --------------  -----  \n",
      " 0   PassengerId  891 non-null    int64  \n",
      " 1   Survived     891 non-null    object \n",
      " 2   Pclass       891 non-null    object \n",
      " 3   Name         891 non-null    object \n",
      " 4   Sex          891 non-null    object \n",
      " 5   Age          714 non-null    float64\n",
      " 6   SibSp        891 non-null    int64  \n",
      " 7   Parch        891 non-null    int64  \n",
      " 8   Ticket       891 non-null    object \n",
      " 9   Fare         891 non-null    float64\n",
      " 10  Cabin        204 non-null    object \n",
      " 11  Embarked     889 non-null    object \n",
      "dtypes: float64(2), int64(3), object(7)\n",
      "memory usage: 83.7+ KB\n"
     ]
    }
   ],
   "source": [
    "data.info()"
   ]
  },
  {
   "cell_type": "code",
   "execution_count": 9,
   "metadata": {
    "execution": {
     "iopub.execute_input": "2020-12-08T12:17:19.678628Z",
     "iopub.status.busy": "2020-12-08T12:17:19.677511Z",
     "iopub.status.idle": "2020-12-08T12:17:19.682465Z",
     "shell.execute_reply": "2020-12-08T12:17:19.681823Z"
    },
    "papermill": {
     "duration": 0.056449,
     "end_time": "2020-12-08T12:17:19.682591",
     "exception": false,
     "start_time": "2020-12-08T12:17:19.626142",
     "status": "completed"
    },
    "tags": []
   },
   "outputs": [
    {
     "data": {
      "text/plain": [
       "0    549\n",
       "1    342\n",
       "Name: Survived, dtype: int64"
      ]
     },
     "execution_count": 9,
     "metadata": {},
     "output_type": "execute_result"
    }
   ],
   "source": [
    "data[\"Survived\"].value_counts()"
   ]
  },
  {
   "cell_type": "code",
   "execution_count": 10,
   "metadata": {
    "execution": {
     "iopub.execute_input": "2020-12-08T12:17:19.792814Z",
     "iopub.status.busy": "2020-12-08T12:17:19.787991Z",
     "iopub.status.idle": "2020-12-08T12:17:19.796412Z",
     "shell.execute_reply": "2020-12-08T12:17:19.795643Z"
    },
    "papermill": {
     "duration": 0.068778,
     "end_time": "2020-12-08T12:17:19.796549",
     "exception": false,
     "start_time": "2020-12-08T12:17:19.727771",
     "status": "completed"
    },
    "tags": []
   },
   "outputs": [],
   "source": [
    "def Input_missing_values(data) :\n",
    "    for col in data.columns : \n",
    "        if(data[col].dtype is float) or (data[col].dtype is int) :\n",
    "            data[col] = data[col].fillna(data[col].median())\n",
    "        if(data[col].dtype == object) :\n",
    "            data[col] = data[col].fillna(data[col].mode()[0])\n",
    "    return data\n",
    "\n",
    "a = Input_missing_values(data)"
   ]
  },
  {
   "cell_type": "code",
   "execution_count": 11,
   "metadata": {
    "execution": {
     "iopub.execute_input": "2020-12-08T12:17:19.894661Z",
     "iopub.status.busy": "2020-12-08T12:17:19.893909Z",
     "iopub.status.idle": "2020-12-08T12:17:19.897636Z",
     "shell.execute_reply": "2020-12-08T12:17:19.896993Z"
    },
    "papermill": {
     "duration": 0.056388,
     "end_time": "2020-12-08T12:17:19.897756",
     "exception": false,
     "start_time": "2020-12-08T12:17:19.841368",
     "status": "completed"
    },
    "tags": []
   },
   "outputs": [],
   "source": [
    "data[\"Age\"] = data[\"Age\"].fillna(data[\"Age\"].mode()[0])"
   ]
  },
  {
   "cell_type": "code",
   "execution_count": 12,
   "metadata": {
    "execution": {
     "iopub.execute_input": "2020-12-08T12:17:19.996970Z",
     "iopub.status.busy": "2020-12-08T12:17:19.996004Z",
     "iopub.status.idle": "2020-12-08T12:17:20.000752Z",
     "shell.execute_reply": "2020-12-08T12:17:20.000074Z"
    },
    "papermill": {
     "duration": 0.058295,
     "end_time": "2020-12-08T12:17:20.000877",
     "exception": false,
     "start_time": "2020-12-08T12:17:19.942582",
     "status": "completed"
    },
    "tags": []
   },
   "outputs": [
    {
     "data": {
      "text/plain": [
       "PassengerId    0\n",
       "Survived       0\n",
       "Pclass         0\n",
       "Name           0\n",
       "Sex            0\n",
       "Age            0\n",
       "SibSp          0\n",
       "Parch          0\n",
       "Ticket         0\n",
       "Fare           0\n",
       "Cabin          0\n",
       "Embarked       0\n",
       "dtype: int64"
      ]
     },
     "execution_count": 12,
     "metadata": {},
     "output_type": "execute_result"
    }
   ],
   "source": [
    "a.isna().sum()"
   ]
  },
  {
   "cell_type": "code",
   "execution_count": 13,
   "metadata": {
    "execution": {
     "iopub.execute_input": "2020-12-08T12:17:20.102316Z",
     "iopub.status.busy": "2020-12-08T12:17:20.101246Z",
     "iopub.status.idle": "2020-12-08T12:17:20.105730Z",
     "shell.execute_reply": "2020-12-08T12:17:20.105096Z"
    },
    "papermill": {
     "duration": 0.059233,
     "end_time": "2020-12-08T12:17:20.105882",
     "exception": false,
     "start_time": "2020-12-08T12:17:20.046649",
     "status": "completed"
    },
    "tags": []
   },
   "outputs": [],
   "source": [
    "def parse_model(x,use_columns) :\n",
    "    if \"Survived\" not in x.columns :\n",
    "        raise ValueError(\"target column survived should belong to data\")\n",
    "    target = x[\"Survived\"] \n",
    "    x = x[use_columns]\n",
    "    return x,target\n",
    "\n",
    "model_cols1 = [\"SibSp\",\"Parch\",\"Fare\"]\n",
    "X,y = parse_model(x = data.copy(), use_columns = model_cols1)"
   ]
  },
  {
   "cell_type": "markdown",
   "metadata": {
    "papermill": {
     "duration": 0.055849,
     "end_time": "2020-12-08T12:17:20.216436",
     "exception": false,
     "start_time": "2020-12-08T12:17:20.160587",
     "status": "completed"
    },
    "tags": []
   },
   "source": [
    "# Modelisation"
   ]
  },
  {
   "cell_type": "code",
   "execution_count": 14,
   "metadata": {
    "execution": {
     "iopub.execute_input": "2020-12-08T12:17:20.325466Z",
     "iopub.status.busy": "2020-12-08T12:17:20.324530Z",
     "iopub.status.idle": "2020-12-08T12:17:20.517328Z",
     "shell.execute_reply": "2020-12-08T12:17:20.516480Z"
    },
    "papermill": {
     "duration": 0.246362,
     "end_time": "2020-12-08T12:17:20.517487",
     "exception": false,
     "start_time": "2020-12-08T12:17:20.271125",
     "status": "completed"
    },
    "tags": []
   },
   "outputs": [],
   "source": [
    "from sklearn.model_selection import cross_val_score,train_test_split\n",
    "from sklearn.metrics import accuracy_score\n",
    "from sklearn.linear_model import  LogisticRegression"
   ]
  },
  {
   "cell_type": "code",
   "execution_count": 15,
   "metadata": {
    "execution": {
     "iopub.execute_input": "2020-12-08T12:17:20.624032Z",
     "iopub.status.busy": "2020-12-08T12:17:20.619611Z",
     "iopub.status.idle": "2020-12-08T12:17:20.660993Z",
     "shell.execute_reply": "2020-12-08T12:17:20.660376Z"
    },
    "papermill": {
     "duration": 0.096806,
     "end_time": "2020-12-08T12:17:20.661123",
     "exception": false,
     "start_time": "2020-12-08T12:17:20.564317",
     "status": "completed"
    },
    "tags": []
   },
   "outputs": [
    {
     "name": "stdout",
     "output_type": "stream",
     "text": [
      "accuracy en train  : 0.6643258426966292\n",
      "accuracy en test  : 0.6983240223463687\n"
     ]
    }
   ],
   "source": [
    "x_train,x_test,y_train,y_test = train_test_split(X,y,test_size = 0.2,random_state = 0)\n",
    "\n",
    "logit = LogisticRegression().fit(x_train,y_train)\n",
    "pred = logit.predict(x_train)\n",
    "print(\"accuracy en train  :\" ,accuracy_score(y_train,pred))\n",
    "\n",
    "pred_test = logit.predict(x_test)\n",
    "print(\"accuracy en test  :\" ,accuracy_score(y_test,pred_test))"
   ]
  },
  {
   "cell_type": "markdown",
   "metadata": {
    "papermill": {
     "duration": 0.04814,
     "end_time": "2020-12-08T12:17:20.758024",
     "exception": false,
     "start_time": "2020-12-08T12:17:20.709884",
     "status": "completed"
    },
    "tags": []
   },
   "source": [
    "# Evaluation en validation croisée"
   ]
  },
  {
   "cell_type": "code",
   "execution_count": 16,
   "metadata": {
    "execution": {
     "iopub.execute_input": "2020-12-08T12:17:20.874583Z",
     "iopub.status.busy": "2020-12-08T12:17:20.873788Z",
     "iopub.status.idle": "2020-12-08T12:17:20.968689Z",
     "shell.execute_reply": "2020-12-08T12:17:20.967937Z"
    },
    "papermill": {
     "duration": 0.157125,
     "end_time": "2020-12-08T12:17:20.968811",
     "exception": false,
     "start_time": "2020-12-08T12:17:20.811686",
     "status": "completed"
    },
    "tags": []
   },
   "outputs": [
    {
     "name": "stdout",
     "output_type": "stream",
     "text": [
      "Accuracy : 0.67(*/- 0.04)\n"
     ]
    },
    {
     "data": {
      "text/plain": [
       "array([0.63636364, 0.65734266, 0.67605634, 0.69014085, 0.67605634])"
      ]
     },
     "execution_count": 16,
     "metadata": {},
     "output_type": "execute_result"
    }
   ],
   "source": [
    "def compute_score(cfl,x,y,cv=5) :\n",
    "    xval = cross_val_score(cfl,x,y,cv = 5)\n",
    "    print(\"Accuracy : %0.2f(*/- %0.2f)\"%(xval.mean(),xval.std()*2))\n",
    "    return xval\n",
    "compute_score(logit,x_train,y_train)"
   ]
  },
  {
   "cell_type": "markdown",
   "metadata": {
    "papermill": {
     "duration": 0.049954,
     "end_time": "2020-12-08T12:17:21.067378",
     "exception": false,
     "start_time": "2020-12-08T12:17:21.017424",
     "status": "completed"
    },
    "tags": []
   },
   "source": [
    "# Amelioration de la performance du model"
   ]
  },
  {
   "cell_type": "code",
   "execution_count": 17,
   "metadata": {
    "execution": {
     "iopub.execute_input": "2020-12-08T12:17:21.174814Z",
     "iopub.status.busy": "2020-12-08T12:17:21.173694Z",
     "iopub.status.idle": "2020-12-08T12:17:21.182641Z",
     "shell.execute_reply": "2020-12-08T12:17:21.182000Z"
    },
    "papermill": {
     "duration": 0.06657,
     "end_time": "2020-12-08T12:17:21.182785",
     "exception": false,
     "start_time": "2020-12-08T12:17:21.116215",
     "status": "completed"
    },
    "tags": []
   },
   "outputs": [
    {
     "data": {
      "text/plain": [
       "0      3\n",
       "4      3\n",
       "5      3\n",
       "6      1\n",
       "7      3\n",
       "      ..\n",
       "884    3\n",
       "885    3\n",
       "886    2\n",
       "888    3\n",
       "890    3\n",
       "Name: Pclass, Length: 549, dtype: int64"
      ]
     },
     "execution_count": 17,
     "metadata": {},
     "output_type": "execute_result"
    }
   ],
   "source": [
    "survived = data[data.Survived == 1]\n",
    "dead = data[data.Survived == 0]\n",
    "dead[\"Pclass\"]"
   ]
  },
  {
   "cell_type": "code",
   "execution_count": 18,
   "metadata": {
    "execution": {
     "iopub.execute_input": "2020-12-08T12:17:21.308038Z",
     "iopub.status.busy": "2020-12-08T12:17:21.307170Z",
     "iopub.status.idle": "2020-12-08T12:17:21.602899Z",
     "shell.execute_reply": "2020-12-08T12:17:21.602266Z"
    },
    "papermill": {
     "duration": 0.370349,
     "end_time": "2020-12-08T12:17:21.603029",
     "exception": false,
     "start_time": "2020-12-08T12:17:21.232680",
     "status": "completed"
    },
    "tags": []
   },
   "outputs": [
    {
     "name": "stdout",
     "output_type": "stream",
     "text": [
      "Populating the interactive namespace from numpy and matplotlib\n"
     ]
    },
    {
     "name": "stderr",
     "output_type": "stream",
     "text": [
      "/opt/conda/lib/python3.7/site-packages/IPython/core/magics/pylab.py:160: UserWarning: pylab import has clobbered these variables: ['test']\n",
      "`%matplotlib` prevents importing * from pylab and numpy\n",
      "  \"\\n`%matplotlib` prevents importing * from pylab and numpy\"\n"
     ]
    },
    {
     "data": {
      "image/png": "[encoded data removed]",
      "text/plain": [
       "<Figure size 432x288 with 1 Axes>"
      ]
     },
     "metadata": {
      "needs_background": "light"
     },
     "output_type": "display_data"
    }
   ],
   "source": [
    "plt.figure(figsize = (25,10))\n",
    "from matplotlib import style\n",
    "style.use(\"fivethirtyeight\")\n",
    "%matplotlib inline\n",
    "%pylab inline\n",
    "\n",
    "def plot_hist(feature,bins = 20) :\n",
    "    x1 = np.array(dead[feature].dropna())\n",
    "    x2 = np.array(survived[feature].dropna())\n",
    "    plt.hist([x1,x2],label = [\"Victime\",\"Survivant\"],bins=bins, color =['r','b'])\n",
    "    plt.legend(loc = \"upper left\")\n",
    "    plt.title(\"distribution relative de %s \" %feature)\n",
    "    plt.show()  \n",
    "plot_hist(\"Pclass\")     "
   ]
  },
  {
   "cell_type": "markdown",
   "metadata": {
    "papermill": {
     "duration": 0.050959,
     "end_time": "2020-12-08T12:17:21.715711",
     "exception": false,
     "start_time": "2020-12-08T12:17:21.664752",
     "status": "completed"
    },
    "tags": []
   },
   "source": [
    "Nous constactons que la variable classe a un impacte sur la survie"
   ]
  },
  {
   "cell_type": "code",
   "execution_count": 19,
   "metadata": {
    "execution": {
     "iopub.execute_input": "2020-12-08T12:17:21.827530Z",
     "iopub.status.busy": "2020-12-08T12:17:21.825104Z",
     "iopub.status.idle": "2020-12-08T12:17:21.850945Z",
     "shell.execute_reply": "2020-12-08T12:17:21.850320Z"
    },
    "papermill": {
     "duration": 0.084057,
     "end_time": "2020-12-08T12:17:21.851076",
     "exception": false,
     "start_time": "2020-12-08T12:17:21.767019",
     "status": "completed"
    },
    "tags": []
   },
   "outputs": [
    {
     "data": {
      "text/html": [
       "<div>\n",
       "<style scoped>\n",
       "    .dataframe tbody tr th:only-of-type {\n",
       "        vertical-align: middle;\n",
       "    }\n",
       "\n",
       "    .dataframe tbody tr th {\n",
       "        vertical-align: top;\n",
       "    }\n",
       "\n",
       "    .dataframe thead th {\n",
       "        text-align: right;\n",
       "    }\n",
       "</style>\n",
       "<table border=\"1\" class=\"dataframe\">\n",
       "  <thead>\n",
       "    <tr style=\"text-align: right;\">\n",
       "      <th></th>\n",
       "      <th>PassengerId</th>\n",
       "      <th>Survived</th>\n",
       "      <th>Name</th>\n",
       "      <th>Sex</th>\n",
       "      <th>Age</th>\n",
       "      <th>SibSp</th>\n",
       "      <th>Parch</th>\n",
       "      <th>Ticket</th>\n",
       "      <th>Fare</th>\n",
       "      <th>Cabin</th>\n",
       "      <th>Embarked</th>\n",
       "      <th>Pclass_1</th>\n",
       "      <th>Pclass_2</th>\n",
       "      <th>Pclass_3</th>\n",
       "    </tr>\n",
       "  </thead>\n",
       "  <tbody>\n",
       "    <tr>\n",
       "      <th>0</th>\n",
       "      <td>1</td>\n",
       "      <td>0</td>\n",
       "      <td>Braund, Mr. Owen Harris</td>\n",
       "      <td>male</td>\n",
       "      <td>22.0</td>\n",
       "      <td>1</td>\n",
       "      <td>0</td>\n",
       "      <td>A/5 21171</td>\n",
       "      <td>7.2500</td>\n",
       "      <td>B96 B98</td>\n",
       "      <td>S</td>\n",
       "      <td>0</td>\n",
       "      <td>0</td>\n",
       "      <td>1</td>\n",
       "    </tr>\n",
       "    <tr>\n",
       "      <th>1</th>\n",
       "      <td>2</td>\n",
       "      <td>1</td>\n",
       "      <td>Cumings, Mrs. John Bradley (Florence Briggs Th...</td>\n",
       "      <td>female</td>\n",
       "      <td>38.0</td>\n",
       "      <td>1</td>\n",
       "      <td>0</td>\n",
       "      <td>PC 17599</td>\n",
       "      <td>71.2833</td>\n",
       "      <td>C85</td>\n",
       "      <td>C</td>\n",
       "      <td>1</td>\n",
       "      <td>0</td>\n",
       "      <td>0</td>\n",
       "    </tr>\n",
       "    <tr>\n",
       "      <th>2</th>\n",
       "      <td>3</td>\n",
       "      <td>1</td>\n",
       "      <td>Heikkinen, Miss. Laina</td>\n",
       "      <td>female</td>\n",
       "      <td>26.0</td>\n",
       "      <td>0</td>\n",
       "      <td>0</td>\n",
       "      <td>STON/O2. 3101282</td>\n",
       "      <td>7.9250</td>\n",
       "      <td>B96 B98</td>\n",
       "      <td>S</td>\n",
       "      <td>0</td>\n",
       "      <td>0</td>\n",
       "      <td>1</td>\n",
       "    </tr>\n",
       "    <tr>\n",
       "      <th>3</th>\n",
       "      <td>4</td>\n",
       "      <td>1</td>\n",
       "      <td>Futrelle, Mrs. Jacques Heath (Lily May Peel)</td>\n",
       "      <td>female</td>\n",
       "      <td>35.0</td>\n",
       "      <td>1</td>\n",
       "      <td>0</td>\n",
       "      <td>113803</td>\n",
       "      <td>53.1000</td>\n",
       "      <td>C123</td>\n",
       "      <td>S</td>\n",
       "      <td>1</td>\n",
       "      <td>0</td>\n",
       "      <td>0</td>\n",
       "    </tr>\n",
       "    <tr>\n",
       "      <th>4</th>\n",
       "      <td>5</td>\n",
       "      <td>0</td>\n",
       "      <td>Allen, Mr. William Henry</td>\n",
       "      <td>male</td>\n",
       "      <td>35.0</td>\n",
       "      <td>0</td>\n",
       "      <td>0</td>\n",
       "      <td>373450</td>\n",
       "      <td>8.0500</td>\n",
       "      <td>B96 B98</td>\n",
       "      <td>S</td>\n",
       "      <td>0</td>\n",
       "      <td>0</td>\n",
       "      <td>1</td>\n",
       "    </tr>\n",
       "  </tbody>\n",
       "</table>\n",
       "</div>"
      ],
      "text/plain": [
       "   PassengerId  Survived                                               Name  \\\n",
       "0            1         0                            Braund, Mr. Owen Harris   \n",
       "1            2         1  Cumings, Mrs. John Bradley (Florence Briggs Th...   \n",
       "2            3         1                             Heikkinen, Miss. Laina   \n",
       "3            4         1       Futrelle, Mrs. Jacques Heath (Lily May Peel)   \n",
       "4            5         0                           Allen, Mr. William Henry   \n",
       "\n",
       "      Sex   Age  SibSp  Parch            Ticket     Fare    Cabin Embarked  \\\n",
       "0    male  22.0      1      0         A/5 21171   7.2500  B96 B98        S   \n",
       "1  female  38.0      1      0          PC 17599  71.2833      C85        C   \n",
       "2  female  26.0      0      0  STON/O2. 3101282   7.9250  B96 B98        S   \n",
       "3  female  35.0      1      0            113803  53.1000     C123        S   \n",
       "4    male  35.0      0      0            373450   8.0500  B96 B98        S   \n",
       "\n",
       "   Pclass_1  Pclass_2  Pclass_3  \n",
       "0         0         0         1  \n",
       "1         1         0         0  \n",
       "2         0         0         1  \n",
       "3         1         0         0  \n",
       "4         0         0         1  "
      ]
     },
     "execution_count": 19,
     "metadata": {},
     "output_type": "execute_result"
    }
   ],
   "source": [
    "data1 = pd.get_dummies(data,columns=[\"Pclass\"])\n",
    "data1.head()"
   ]
  },
  {
   "cell_type": "code",
   "execution_count": 20,
   "metadata": {
    "execution": {
     "iopub.execute_input": "2020-12-08T12:17:21.963855Z",
     "iopub.status.busy": "2020-12-08T12:17:21.963002Z",
     "iopub.status.idle": "2020-12-08T12:17:21.968007Z",
     "shell.execute_reply": "2020-12-08T12:17:21.968619Z"
    },
    "papermill": {
     "duration": 0.065353,
     "end_time": "2020-12-08T12:17:21.968771",
     "exception": false,
     "start_time": "2020-12-08T12:17:21.903418",
     "status": "completed"
    },
    "tags": []
   },
   "outputs": [],
   "source": [
    "model_cols2 = [\"SibSp\",\"Parch\",\"Fare\",\"Pclass_1\",\"Pclass_2\",\"Pclass_3\"]\n",
    "X1,y1 = parse_model(x = data1.copy(), use_columns = model_cols2)"
   ]
  },
  {
   "cell_type": "code",
   "execution_count": 21,
   "metadata": {
    "execution": {
     "iopub.execute_input": "2020-12-08T12:17:22.089955Z",
     "iopub.status.busy": "2020-12-08T12:17:22.085762Z",
     "iopub.status.idle": "2020-12-08T12:17:22.166204Z",
     "shell.execute_reply": "2020-12-08T12:17:22.166952Z"
    },
    "papermill": {
     "duration": 0.145688,
     "end_time": "2020-12-08T12:17:22.167165",
     "exception": false,
     "start_time": "2020-12-08T12:17:22.021477",
     "status": "completed"
    },
    "tags": []
   },
   "outputs": [
    {
     "name": "stdout",
     "output_type": "stream",
     "text": [
      "accuracy en train  : 0.6839887640449438\n",
      "accuracy en test  : 0.7150837988826816\n"
     ]
    }
   ],
   "source": [
    "x_train1,x_test1,y_train1,y_test1 = train_test_split(X1,y1,test_size = 0.2,random_state = 0)\n",
    "\n",
    "logit1 = LogisticRegression().fit(x_train1,y_train1)\n",
    "pred1 = logit1.predict(x_train1)\n",
    "print(\"accuracy en train  :\" ,accuracy_score(y_train1,pred1))\n",
    "\n",
    "pred_test1 = logit1.predict(x_test1)\n",
    "print(\"accuracy en test  :\" ,accuracy_score(y_test1,pred_test1))"
   ]
  },
  {
   "cell_type": "markdown",
   "metadata": {
    "papermill": {
     "duration": 0.066196,
     "end_time": "2020-12-08T12:17:22.300174",
     "exception": false,
     "start_time": "2020-12-08T12:17:22.233978",
     "status": "completed"
    },
    "tags": []
   },
   "source": [
    "# Deuxieme A melioration"
   ]
  },
  {
   "cell_type": "code",
   "execution_count": 22,
   "metadata": {
    "execution": {
     "iopub.execute_input": "2020-12-08T12:17:22.435810Z",
     "iopub.status.busy": "2020-12-08T12:17:22.434778Z",
     "iopub.status.idle": "2020-12-08T12:17:22.438791Z",
     "shell.execute_reply": "2020-12-08T12:17:22.439440Z"
    },
    "papermill": {
     "duration": 0.069852,
     "end_time": "2020-12-08T12:17:22.439612",
     "exception": false,
     "start_time": "2020-12-08T12:17:22.369760",
     "status": "completed"
    },
    "tags": []
   },
   "outputs": [
    {
     "data": {
      "text/plain": [
       "male      0.647587\n",
       "female    0.352413\n",
       "Name: Sex, dtype: float64"
      ]
     },
     "execution_count": 22,
     "metadata": {},
     "output_type": "execute_result"
    }
   ],
   "source": [
    "(data1[\"Sex\"].value_counts()/data1.shape[0])"
   ]
  },
  {
   "cell_type": "code",
   "execution_count": 23,
   "metadata": {
    "execution": {
     "iopub.execute_input": "2020-12-08T12:17:22.564468Z",
     "iopub.status.busy": "2020-12-08T12:17:22.554848Z",
     "iopub.status.idle": "2020-12-08T12:17:22.649378Z",
     "shell.execute_reply": "2020-12-08T12:17:22.648591Z"
    },
    "papermill": {
     "duration": 0.155782,
     "end_time": "2020-12-08T12:17:22.649523",
     "exception": false,
     "start_time": "2020-12-08T12:17:22.493741",
     "status": "completed"
    },
    "tags": []
   },
   "outputs": [
    {
     "data": {
      "text/plain": [
       "<matplotlib.axes._subplots.AxesSubplot at 0x7fe8e93a4fd0>"
      ]
     },
     "execution_count": 23,
     "metadata": {},
     "output_type": "execute_result"
    },
    {
     "data": {
      "image/png": "[encoded data removed]",
      "text/plain": [
       "<Figure size 1800x720 with 1 Axes>"
      ]
     },
     "metadata": {},
     "output_type": "display_data"
    }
   ],
   "source": [
    "# proportion de femme et d'homme\n",
    "plt.figure(figsize=(25,10))\n",
    "(data1[\"Sex\"].value_counts()/data1.shape[0]).plot.pie()\n",
    "# il y a 65% d'homme et 35% de femme dans le bateau"
   ]
  },
  {
   "cell_type": "markdown",
   "metadata": {
    "papermill": {
     "duration": 0.054744,
     "end_time": "2020-12-08T12:17:22.759469",
     "exception": false,
     "start_time": "2020-12-08T12:17:22.704725",
     "status": "completed"
    },
    "tags": []
   },
   "source": [
    "# Est ce que la survie est-elle liée au Sexe?"
   ]
  },
  {
   "cell_type": "code",
   "execution_count": 24,
   "metadata": {
    "execution": {
     "iopub.execute_input": "2020-12-08T12:17:22.885944Z",
     "iopub.status.busy": "2020-12-08T12:17:22.881129Z",
     "iopub.status.idle": "2020-12-08T12:17:22.902346Z",
     "shell.execute_reply": "2020-12-08T12:17:22.901616Z"
    },
    "papermill": {
     "duration": 0.087899,
     "end_time": "2020-12-08T12:17:22.902478",
     "exception": false,
     "start_time": "2020-12-08T12:17:22.814579",
     "status": "completed"
    },
    "tags": []
   },
   "outputs": [
    {
     "data": {
      "text/html": [
       "<div>\n",
       "<style scoped>\n",
       "    .dataframe tbody tr th:only-of-type {\n",
       "        vertical-align: middle;\n",
       "    }\n",
       "\n",
       "    .dataframe tbody tr th {\n",
       "        vertical-align: top;\n",
       "    }\n",
       "\n",
       "    .dataframe thead th {\n",
       "        text-align: right;\n",
       "    }\n",
       "</style>\n",
       "<table border=\"1\" class=\"dataframe\">\n",
       "  <thead>\n",
       "    <tr style=\"text-align: right;\">\n",
       "      <th>Survived</th>\n",
       "      <th>0</th>\n",
       "      <th>1</th>\n",
       "    </tr>\n",
       "    <tr>\n",
       "      <th>Sex</th>\n",
       "      <th></th>\n",
       "      <th></th>\n",
       "    </tr>\n",
       "  </thead>\n",
       "  <tbody>\n",
       "    <tr>\n",
       "      <th>female</th>\n",
       "      <td>81</td>\n",
       "      <td>233</td>\n",
       "    </tr>\n",
       "    <tr>\n",
       "      <th>male</th>\n",
       "      <td>468</td>\n",
       "      <td>109</td>\n",
       "    </tr>\n",
       "  </tbody>\n",
       "</table>\n",
       "</div>"
      ],
      "text/plain": [
       "Survived    0    1\n",
       "Sex               \n",
       "female     81  233\n",
       "male      468  109"
      ]
     },
     "execution_count": 24,
     "metadata": {},
     "output_type": "execute_result"
    }
   ],
   "source": [
    "pd.crosstab(data1[\"Sex\"],data1[\"Survived\"])"
   ]
  },
  {
   "cell_type": "markdown",
   "metadata": {
    "papermill": {
     "duration": 0.056895,
     "end_time": "2020-12-08T12:17:23.015509",
     "exception": false,
     "start_time": "2020-12-08T12:17:22.958614",
     "status": "completed"
    },
    "tags": []
   },
   "source": [
    "il y plus d'homme mort que de femme morte . donc on peut dire que la survie est liée au sexe"
   ]
  },
  {
   "cell_type": "code",
   "execution_count": 25,
   "metadata": {
    "execution": {
     "iopub.execute_input": "2020-12-08T12:17:23.134686Z",
     "iopub.status.busy": "2020-12-08T12:17:23.132626Z",
     "iopub.status.idle": "2020-12-08T12:17:23.418908Z",
     "shell.execute_reply": "2020-12-08T12:17:23.417856Z"
    },
    "papermill": {
     "duration": 0.347249,
     "end_time": "2020-12-08T12:17:23.419072",
     "exception": false,
     "start_time": "2020-12-08T12:17:23.071823",
     "status": "completed"
    },
    "tags": []
   },
   "outputs": [
    {
     "data": {
      "image/png": "[encoded data removed]",
      "text/plain": [
       "<Figure size 1800x720 with 1 Axes>"
      ]
     },
     "metadata": {
      "needs_background": "light"
     },
     "output_type": "display_data"
    }
   ],
   "source": [
    "plt.figure(figsize=(25,10))\n",
    "plot_hist(\"Sex\") "
   ]
  },
  {
   "cell_type": "markdown",
   "metadata": {
    "papermill": {
     "duration": 0.05693,
     "end_time": "2020-12-08T12:17:23.535917",
     "exception": false,
     "start_time": "2020-12-08T12:17:23.478987",
     "status": "completed"
    },
    "tags": []
   },
   "source": [
    "Nous constactons que le sexe a bien un impacte sur la survie. "
   ]
  },
  {
   "cell_type": "code",
   "execution_count": 26,
   "metadata": {
    "execution": {
     "iopub.execute_input": "2020-12-08T12:17:23.656231Z",
     "iopub.status.busy": "2020-12-08T12:17:23.655489Z",
     "iopub.status.idle": "2020-12-08T12:17:23.681609Z",
     "shell.execute_reply": "2020-12-08T12:17:23.680855Z"
    },
    "papermill": {
     "duration": 0.089052,
     "end_time": "2020-12-08T12:17:23.681760",
     "exception": false,
     "start_time": "2020-12-08T12:17:23.592708",
     "status": "completed"
    },
    "tags": []
   },
   "outputs": [
    {
     "data": {
      "text/html": [
       "<div>\n",
       "<style scoped>\n",
       "    .dataframe tbody tr th:only-of-type {\n",
       "        vertical-align: middle;\n",
       "    }\n",
       "\n",
       "    .dataframe tbody tr th {\n",
       "        vertical-align: top;\n",
       "    }\n",
       "\n",
       "    .dataframe thead th {\n",
       "        text-align: right;\n",
       "    }\n",
       "</style>\n",
       "<table border=\"1\" class=\"dataframe\">\n",
       "  <thead>\n",
       "    <tr style=\"text-align: right;\">\n",
       "      <th></th>\n",
       "      <th>PassengerId</th>\n",
       "      <th>Survived</th>\n",
       "      <th>Name</th>\n",
       "      <th>Age</th>\n",
       "      <th>SibSp</th>\n",
       "      <th>Parch</th>\n",
       "      <th>Ticket</th>\n",
       "      <th>Fare</th>\n",
       "      <th>Cabin</th>\n",
       "      <th>Embarked</th>\n",
       "      <th>Pclass_1</th>\n",
       "      <th>Pclass_2</th>\n",
       "      <th>Pclass_3</th>\n",
       "      <th>Sex_female</th>\n",
       "      <th>Sex_male</th>\n",
       "    </tr>\n",
       "  </thead>\n",
       "  <tbody>\n",
       "    <tr>\n",
       "      <th>0</th>\n",
       "      <td>1</td>\n",
       "      <td>0</td>\n",
       "      <td>Braund, Mr. Owen Harris</td>\n",
       "      <td>22.0</td>\n",
       "      <td>1</td>\n",
       "      <td>0</td>\n",
       "      <td>A/5 21171</td>\n",
       "      <td>7.2500</td>\n",
       "      <td>B96 B98</td>\n",
       "      <td>S</td>\n",
       "      <td>0</td>\n",
       "      <td>0</td>\n",
       "      <td>1</td>\n",
       "      <td>0</td>\n",
       "      <td>1</td>\n",
       "    </tr>\n",
       "    <tr>\n",
       "      <th>1</th>\n",
       "      <td>2</td>\n",
       "      <td>1</td>\n",
       "      <td>Cumings, Mrs. John Bradley (Florence Briggs Th...</td>\n",
       "      <td>38.0</td>\n",
       "      <td>1</td>\n",
       "      <td>0</td>\n",
       "      <td>PC 17599</td>\n",
       "      <td>71.2833</td>\n",
       "      <td>C85</td>\n",
       "      <td>C</td>\n",
       "      <td>1</td>\n",
       "      <td>0</td>\n",
       "      <td>0</td>\n",
       "      <td>1</td>\n",
       "      <td>0</td>\n",
       "    </tr>\n",
       "    <tr>\n",
       "      <th>2</th>\n",
       "      <td>3</td>\n",
       "      <td>1</td>\n",
       "      <td>Heikkinen, Miss. Laina</td>\n",
       "      <td>26.0</td>\n",
       "      <td>0</td>\n",
       "      <td>0</td>\n",
       "      <td>STON/O2. 3101282</td>\n",
       "      <td>7.9250</td>\n",
       "      <td>B96 B98</td>\n",
       "      <td>S</td>\n",
       "      <td>0</td>\n",
       "      <td>0</td>\n",
       "      <td>1</td>\n",
       "      <td>1</td>\n",
       "      <td>0</td>\n",
       "    </tr>\n",
       "    <tr>\n",
       "      <th>3</th>\n",
       "      <td>4</td>\n",
       "      <td>1</td>\n",
       "      <td>Futrelle, Mrs. Jacques Heath (Lily May Peel)</td>\n",
       "      <td>35.0</td>\n",
       "      <td>1</td>\n",
       "      <td>0</td>\n",
       "      <td>113803</td>\n",
       "      <td>53.1000</td>\n",
       "      <td>C123</td>\n",
       "      <td>S</td>\n",
       "      <td>1</td>\n",
       "      <td>0</td>\n",
       "      <td>0</td>\n",
       "      <td>1</td>\n",
       "      <td>0</td>\n",
       "    </tr>\n",
       "    <tr>\n",
       "      <th>4</th>\n",
       "      <td>5</td>\n",
       "      <td>0</td>\n",
       "      <td>Allen, Mr. William Henry</td>\n",
       "      <td>35.0</td>\n",
       "      <td>0</td>\n",
       "      <td>0</td>\n",
       "      <td>373450</td>\n",
       "      <td>8.0500</td>\n",
       "      <td>B96 B98</td>\n",
       "      <td>S</td>\n",
       "      <td>0</td>\n",
       "      <td>0</td>\n",
       "      <td>1</td>\n",
       "      <td>0</td>\n",
       "      <td>1</td>\n",
       "    </tr>\n",
       "  </tbody>\n",
       "</table>\n",
       "</div>"
      ],
      "text/plain": [
       "   PassengerId  Survived                                               Name  \\\n",
       "0            1         0                            Braund, Mr. Owen Harris   \n",
       "1            2         1  Cumings, Mrs. John Bradley (Florence Briggs Th...   \n",
       "2            3         1                             Heikkinen, Miss. Laina   \n",
       "3            4         1       Futrelle, Mrs. Jacques Heath (Lily May Peel)   \n",
       "4            5         0                           Allen, Mr. William Henry   \n",
       "\n",
       "    Age  SibSp  Parch            Ticket     Fare    Cabin Embarked  Pclass_1  \\\n",
       "0  22.0      1      0         A/5 21171   7.2500  B96 B98        S         0   \n",
       "1  38.0      1      0          PC 17599  71.2833      C85        C         1   \n",
       "2  26.0      0      0  STON/O2. 3101282   7.9250  B96 B98        S         0   \n",
       "3  35.0      1      0            113803  53.1000     C123        S         1   \n",
       "4  35.0      0      0            373450   8.0500  B96 B98        S         0   \n",
       "\n",
       "   Pclass_2  Pclass_3  Sex_female  Sex_male  \n",
       "0         0         1           0         1  \n",
       "1         0         0           1         0  \n",
       "2         0         1           1         0  \n",
       "3         0         0           1         0  \n",
       "4         0         1           0         1  "
      ]
     },
     "execution_count": 26,
     "metadata": {},
     "output_type": "execute_result"
    }
   ],
   "source": [
    "data2 = pd.get_dummies(data1,columns=[\"Sex\"])\n",
    "data2.head()"
   ]
  },
  {
   "cell_type": "code",
   "execution_count": 27,
   "metadata": {
    "execution": {
     "iopub.execute_input": "2020-12-08T12:17:23.805906Z",
     "iopub.status.busy": "2020-12-08T12:17:23.804067Z",
     "iopub.status.idle": "2020-12-08T12:17:23.811135Z",
     "shell.execute_reply": "2020-12-08T12:17:23.810523Z"
    },
    "papermill": {
     "duration": 0.07146,
     "end_time": "2020-12-08T12:17:23.811255",
     "exception": false,
     "start_time": "2020-12-08T12:17:23.739795",
     "status": "completed"
    },
    "tags": []
   },
   "outputs": [],
   "source": [
    "model_cols2 = [\"SibSp\",\"Parch\",\"Fare\",\"Pclass_1\",\"Pclass_2\",\"Pclass_3\",\"Sex_female\",\"Sex_male\"]\n",
    "X2,y2 = parse_model(x = data2.copy(), use_columns = model_cols2)"
   ]
  },
  {
   "cell_type": "code",
   "execution_count": 28,
   "metadata": {
    "execution": {
     "iopub.execute_input": "2020-12-08T12:17:23.941475Z",
     "iopub.status.busy": "2020-12-08T12:17:23.937831Z",
     "iopub.status.idle": "2020-12-08T12:17:23.976763Z",
     "shell.execute_reply": "2020-12-08T12:17:23.977467Z"
    },
    "papermill": {
     "duration": 0.107584,
     "end_time": "2020-12-08T12:17:23.977670",
     "exception": false,
     "start_time": "2020-12-08T12:17:23.870086",
     "status": "completed"
    },
    "tags": []
   },
   "outputs": [
    {
     "name": "stdout",
     "output_type": "stream",
     "text": [
      "accuracy en train  : 0.797752808988764\n",
      "accuracy en test  : 0.7988826815642458\n"
     ]
    }
   ],
   "source": [
    "x_train2,x_test2,y_train2,y_test2 = train_test_split(X2,y2,test_size = 0.2,random_state = 0)\n",
    "\n",
    "logit2 = LogisticRegression().fit(x_train2,y_train2)\n",
    "pred2 = logit2.predict(x_train2)\n",
    "print(\"accuracy en train  :\" ,accuracy_score(y_train2,pred2))\n",
    "\n",
    "pred_test2 = logit2.predict(x_test2)\n",
    "print(\"accuracy en test  :\" ,accuracy_score(y_test2,pred_test2))"
   ]
  },
  {
   "cell_type": "markdown",
   "metadata": {
    "papermill": {
     "duration": 0.059486,
     "end_time": "2020-12-08T12:17:24.098348",
     "exception": false,
     "start_time": "2020-12-08T12:17:24.038862",
     "status": "completed"
    },
    "tags": []
   },
   "source": [
    "Notre modele a été amelioré"
   ]
  },
  {
   "cell_type": "markdown",
   "metadata": {
    "papermill": {
     "duration": 0.059726,
     "end_time": "2020-12-08T12:17:24.221079",
     "exception": false,
     "start_time": "2020-12-08T12:17:24.161353",
     "status": "completed"
    },
    "tags": []
   },
   "source": [
    "# Est ce que l'âge a un impact sur la survie?"
   ]
  },
  {
   "cell_type": "code",
   "execution_count": 29,
   "metadata": {
    "execution": {
     "iopub.execute_input": "2020-12-08T12:17:24.351105Z",
     "iopub.status.busy": "2020-12-08T12:17:24.350068Z",
     "iopub.status.idle": "2020-12-08T12:17:24.354434Z",
     "shell.execute_reply": "2020-12-08T12:17:24.353751Z"
    },
    "papermill": {
     "duration": 0.071074,
     "end_time": "2020-12-08T12:17:24.354570",
     "exception": false,
     "start_time": "2020-12-08T12:17:24.283496",
     "status": "completed"
    },
    "tags": []
   },
   "outputs": [],
   "source": [
    "data2[\"Age\"] = data2[\"Age\"].fillna(data2[\"Age\"].mode()[0])"
   ]
  },
  {
   "cell_type": "code",
   "execution_count": 30,
   "metadata": {
    "execution": {
     "iopub.execute_input": "2020-12-08T12:17:24.485947Z",
     "iopub.status.busy": "2020-12-08T12:17:24.484669Z",
     "iopub.status.idle": "2020-12-08T12:17:24.520092Z",
     "shell.execute_reply": "2020-12-08T12:17:24.519321Z"
    },
    "papermill": {
     "duration": 0.10652,
     "end_time": "2020-12-08T12:17:24.520220",
     "exception": false,
     "start_time": "2020-12-08T12:17:24.413700",
     "status": "completed"
    },
    "tags": []
   },
   "outputs": [
    {
     "data": {
      "text/html": [
       "<div>\n",
       "<style scoped>\n",
       "    .dataframe tbody tr th:only-of-type {\n",
       "        vertical-align: middle;\n",
       "    }\n",
       "\n",
       "    .dataframe tbody tr th {\n",
       "        vertical-align: top;\n",
       "    }\n",
       "\n",
       "    .dataframe thead th {\n",
       "        text-align: right;\n",
       "    }\n",
       "</style>\n",
       "<table border=\"1\" class=\"dataframe\">\n",
       "  <thead>\n",
       "    <tr style=\"text-align: right;\">\n",
       "      <th>Age</th>\n",
       "      <th>0.42</th>\n",
       "      <th>0.67</th>\n",
       "      <th>0.75</th>\n",
       "      <th>0.83</th>\n",
       "      <th>0.92</th>\n",
       "      <th>1.00</th>\n",
       "      <th>2.00</th>\n",
       "      <th>3.00</th>\n",
       "      <th>4.00</th>\n",
       "      <th>5.00</th>\n",
       "      <th>...</th>\n",
       "      <th>62.00</th>\n",
       "      <th>63.00</th>\n",
       "      <th>64.00</th>\n",
       "      <th>65.00</th>\n",
       "      <th>66.00</th>\n",
       "      <th>70.00</th>\n",
       "      <th>70.50</th>\n",
       "      <th>71.00</th>\n",
       "      <th>74.00</th>\n",
       "      <th>80.00</th>\n",
       "    </tr>\n",
       "    <tr>\n",
       "      <th>Survived</th>\n",
       "      <th></th>\n",
       "      <th></th>\n",
       "      <th></th>\n",
       "      <th></th>\n",
       "      <th></th>\n",
       "      <th></th>\n",
       "      <th></th>\n",
       "      <th></th>\n",
       "      <th></th>\n",
       "      <th></th>\n",
       "      <th></th>\n",
       "      <th></th>\n",
       "      <th></th>\n",
       "      <th></th>\n",
       "      <th></th>\n",
       "      <th></th>\n",
       "      <th></th>\n",
       "      <th></th>\n",
       "      <th></th>\n",
       "      <th></th>\n",
       "      <th></th>\n",
       "    </tr>\n",
       "  </thead>\n",
       "  <tbody>\n",
       "    <tr>\n",
       "      <th>0</th>\n",
       "      <td>0</td>\n",
       "      <td>0</td>\n",
       "      <td>0</td>\n",
       "      <td>0</td>\n",
       "      <td>0</td>\n",
       "      <td>2</td>\n",
       "      <td>7</td>\n",
       "      <td>1</td>\n",
       "      <td>3</td>\n",
       "      <td>0</td>\n",
       "      <td>...</td>\n",
       "      <td>2</td>\n",
       "      <td>0</td>\n",
       "      <td>2</td>\n",
       "      <td>3</td>\n",
       "      <td>1</td>\n",
       "      <td>2</td>\n",
       "      <td>1</td>\n",
       "      <td>2</td>\n",
       "      <td>1</td>\n",
       "      <td>0</td>\n",
       "    </tr>\n",
       "    <tr>\n",
       "      <th>1</th>\n",
       "      <td>1</td>\n",
       "      <td>1</td>\n",
       "      <td>2</td>\n",
       "      <td>2</td>\n",
       "      <td>1</td>\n",
       "      <td>5</td>\n",
       "      <td>3</td>\n",
       "      <td>5</td>\n",
       "      <td>7</td>\n",
       "      <td>4</td>\n",
       "      <td>...</td>\n",
       "      <td>2</td>\n",
       "      <td>2</td>\n",
       "      <td>0</td>\n",
       "      <td>0</td>\n",
       "      <td>0</td>\n",
       "      <td>0</td>\n",
       "      <td>0</td>\n",
       "      <td>0</td>\n",
       "      <td>0</td>\n",
       "      <td>1</td>\n",
       "    </tr>\n",
       "  </tbody>\n",
       "</table>\n",
       "<p>2 rows × 88 columns</p>\n",
       "</div>"
      ],
      "text/plain": [
       "Age       0.42   0.67   0.75   0.83   0.92   1.00   2.00   3.00   4.00   \\\n",
       "Survived                                                                  \n",
       "0             0      0      0      0      0      2      7      1      3   \n",
       "1             1      1      2      2      1      5      3      5      7   \n",
       "\n",
       "Age       5.00   ...  62.00  63.00  64.00  65.00  66.00  70.00  70.50  71.00  \\\n",
       "Survived         ...                                                           \n",
       "0             0  ...      2      0      2      3      1      2      1      2   \n",
       "1             4  ...      2      2      0      0      0      0      0      0   \n",
       "\n",
       "Age       74.00  80.00  \n",
       "Survived                \n",
       "0             1      0  \n",
       "1             0      1  \n",
       "\n",
       "[2 rows x 88 columns]"
      ]
     },
     "execution_count": 30,
     "metadata": {},
     "output_type": "execute_result"
    }
   ],
   "source": [
    "pd.crosstab(data2[\"Age\"],data2[\"Survived\"]).T"
   ]
  },
  {
   "cell_type": "code",
   "execution_count": 31,
   "metadata": {
    "execution": {
     "iopub.execute_input": "2020-12-08T12:17:24.647992Z",
     "iopub.status.busy": "2020-12-08T12:17:24.646823Z",
     "iopub.status.idle": "2020-12-08T12:17:24.651259Z",
     "shell.execute_reply": "2020-12-08T12:17:24.651902Z"
    },
    "papermill": {
     "duration": 0.071683,
     "end_time": "2020-12-08T12:17:24.652066",
     "exception": false,
     "start_time": "2020-12-08T12:17:24.580383",
     "status": "completed"
    },
    "tags": []
   },
   "outputs": [
    {
     "data": {
      "text/plain": [
       "0"
      ]
     },
     "execution_count": 31,
     "metadata": {},
     "output_type": "execute_result"
    }
   ],
   "source": [
    "data2[\"Age\"].isna().sum()"
   ]
  },
  {
   "cell_type": "code",
   "execution_count": 32,
   "metadata": {
    "execution": {
     "iopub.execute_input": "2020-12-08T12:17:24.785787Z",
     "iopub.status.busy": "2020-12-08T12:17:24.784835Z",
     "iopub.status.idle": "2020-12-08T12:17:25.058065Z",
     "shell.execute_reply": "2020-12-08T12:17:25.057451Z"
    },
    "papermill": {
     "duration": 0.346593,
     "end_time": "2020-12-08T12:17:25.058193",
     "exception": false,
     "start_time": "2020-12-08T12:17:24.711600",
     "status": "completed"
    },
    "tags": []
   },
   "outputs": [
    {
     "data": {
      "text/plain": [
       "<matplotlib.axes._subplots.AxesSubplot at 0x7fe8e37ad090>"
      ]
     },
     "execution_count": 32,
     "metadata": {},
     "output_type": "execute_result"
    },
    {
     "data": {
      "image/png": "[encoded data removed]",
      "text/plain": [
       "<Figure size 1800x720 with 1 Axes>"
      ]
     },
     "metadata": {
      "needs_background": "light"
     },
     "output_type": "display_data"
    }
   ],
   "source": [
    "plt.figure(figsize = (25,10))\n",
    "data2[\"Age\"].plot.hist()"
   ]
  },
  {
   "cell_type": "code",
   "execution_count": 33,
   "metadata": {
    "execution": {
     "iopub.execute_input": "2020-12-08T12:17:25.201750Z",
     "iopub.status.busy": "2020-12-08T12:17:25.200320Z",
     "iopub.status.idle": "2020-12-08T12:17:25.541367Z",
     "shell.execute_reply": "2020-12-08T12:17:25.540696Z"
    },
    "papermill": {
     "duration": 0.422323,
     "end_time": "2020-12-08T12:17:25.541520",
     "exception": false,
     "start_time": "2020-12-08T12:17:25.119197",
     "status": "completed"
    },
    "tags": []
   },
   "outputs": [
    {
     "data": {
      "image/png": "[encoded data removed]",
      "text/plain": [
       "<Figure size 1800x720 with 1 Axes>"
      ]
     },
     "metadata": {
      "needs_background": "light"
     },
     "output_type": "display_data"
    }
   ],
   "source": [
    "plt.figure(figsize=(25,10))\n",
    "plot_hist(\"Age\")"
   ]
  },
  {
   "cell_type": "code",
   "execution_count": 34,
   "metadata": {
    "execution": {
     "iopub.execute_input": "2020-12-08T12:17:25.676217Z",
     "iopub.status.busy": "2020-12-08T12:17:25.674984Z",
     "iopub.status.idle": "2020-12-08T12:17:25.678678Z",
     "shell.execute_reply": "2020-12-08T12:17:25.677867Z"
    },
    "papermill": {
     "duration": 0.072467,
     "end_time": "2020-12-08T12:17:25.678822",
     "exception": false,
     "start_time": "2020-12-08T12:17:25.606355",
     "status": "completed"
    },
    "tags": []
   },
   "outputs": [],
   "source": [
    "def New_col(data,col) : \n",
    "    for i in data[col] :\n",
    "        if i <= 9 :\n",
    "            data[col] = 1\n",
    "        else :\n",
    "            data[col] = 0\n",
    "    return data    "
   ]
  },
  {
   "cell_type": "code",
   "execution_count": 35,
   "metadata": {
    "execution": {
     "iopub.execute_input": "2020-12-08T12:17:25.815469Z",
     "iopub.status.busy": "2020-12-08T12:17:25.812573Z",
     "iopub.status.idle": "2020-12-08T12:17:25.927265Z",
     "shell.execute_reply": "2020-12-08T12:17:25.926584Z"
    },
    "papermill": {
     "duration": 0.185424,
     "end_time": "2020-12-08T12:17:25.927417",
     "exception": false,
     "start_time": "2020-12-08T12:17:25.741993",
     "status": "completed"
    },
    "tags": []
   },
   "outputs": [
    {
     "data": {
      "text/html": [
       "<div>\n",
       "<style scoped>\n",
       "    .dataframe tbody tr th:only-of-type {\n",
       "        vertical-align: middle;\n",
       "    }\n",
       "\n",
       "    .dataframe tbody tr th {\n",
       "        vertical-align: top;\n",
       "    }\n",
       "\n",
       "    .dataframe thead th {\n",
       "        text-align: right;\n",
       "    }\n",
       "</style>\n",
       "<table border=\"1\" class=\"dataframe\">\n",
       "  <thead>\n",
       "    <tr style=\"text-align: right;\">\n",
       "      <th></th>\n",
       "      <th>PassengerId</th>\n",
       "      <th>Survived</th>\n",
       "      <th>Name</th>\n",
       "      <th>Age</th>\n",
       "      <th>SibSp</th>\n",
       "      <th>Parch</th>\n",
       "      <th>Ticket</th>\n",
       "      <th>Fare</th>\n",
       "      <th>Cabin</th>\n",
       "      <th>Embarked</th>\n",
       "      <th>Pclass_1</th>\n",
       "      <th>Pclass_2</th>\n",
       "      <th>Pclass_3</th>\n",
       "      <th>Sex_female</th>\n",
       "      <th>Sex_male</th>\n",
       "    </tr>\n",
       "  </thead>\n",
       "  <tbody>\n",
       "    <tr>\n",
       "      <th>0</th>\n",
       "      <td>1</td>\n",
       "      <td>0</td>\n",
       "      <td>Braund, Mr. Owen Harris</td>\n",
       "      <td>0</td>\n",
       "      <td>1</td>\n",
       "      <td>0</td>\n",
       "      <td>A/5 21171</td>\n",
       "      <td>7.2500</td>\n",
       "      <td>B96 B98</td>\n",
       "      <td>S</td>\n",
       "      <td>0</td>\n",
       "      <td>0</td>\n",
       "      <td>1</td>\n",
       "      <td>0</td>\n",
       "      <td>1</td>\n",
       "    </tr>\n",
       "    <tr>\n",
       "      <th>1</th>\n",
       "      <td>2</td>\n",
       "      <td>1</td>\n",
       "      <td>Cumings, Mrs. John Bradley (Florence Briggs Th...</td>\n",
       "      <td>0</td>\n",
       "      <td>1</td>\n",
       "      <td>0</td>\n",
       "      <td>PC 17599</td>\n",
       "      <td>71.2833</td>\n",
       "      <td>C85</td>\n",
       "      <td>C</td>\n",
       "      <td>1</td>\n",
       "      <td>0</td>\n",
       "      <td>0</td>\n",
       "      <td>1</td>\n",
       "      <td>0</td>\n",
       "    </tr>\n",
       "    <tr>\n",
       "      <th>2</th>\n",
       "      <td>3</td>\n",
       "      <td>1</td>\n",
       "      <td>Heikkinen, Miss. Laina</td>\n",
       "      <td>0</td>\n",
       "      <td>0</td>\n",
       "      <td>0</td>\n",
       "      <td>STON/O2. 3101282</td>\n",
       "      <td>7.9250</td>\n",
       "      <td>B96 B98</td>\n",
       "      <td>S</td>\n",
       "      <td>0</td>\n",
       "      <td>0</td>\n",
       "      <td>1</td>\n",
       "      <td>1</td>\n",
       "      <td>0</td>\n",
       "    </tr>\n",
       "    <tr>\n",
       "      <th>3</th>\n",
       "      <td>4</td>\n",
       "      <td>1</td>\n",
       "      <td>Futrelle, Mrs. Jacques Heath (Lily May Peel)</td>\n",
       "      <td>0</td>\n",
       "      <td>1</td>\n",
       "      <td>0</td>\n",
       "      <td>113803</td>\n",
       "      <td>53.1000</td>\n",
       "      <td>C123</td>\n",
       "      <td>S</td>\n",
       "      <td>1</td>\n",
       "      <td>0</td>\n",
       "      <td>0</td>\n",
       "      <td>1</td>\n",
       "      <td>0</td>\n",
       "    </tr>\n",
       "    <tr>\n",
       "      <th>4</th>\n",
       "      <td>5</td>\n",
       "      <td>0</td>\n",
       "      <td>Allen, Mr. William Henry</td>\n",
       "      <td>0</td>\n",
       "      <td>0</td>\n",
       "      <td>0</td>\n",
       "      <td>373450</td>\n",
       "      <td>8.0500</td>\n",
       "      <td>B96 B98</td>\n",
       "      <td>S</td>\n",
       "      <td>0</td>\n",
       "      <td>0</td>\n",
       "      <td>1</td>\n",
       "      <td>0</td>\n",
       "      <td>1</td>\n",
       "    </tr>\n",
       "    <tr>\n",
       "      <th>...</th>\n",
       "      <td>...</td>\n",
       "      <td>...</td>\n",
       "      <td>...</td>\n",
       "      <td>...</td>\n",
       "      <td>...</td>\n",
       "      <td>...</td>\n",
       "      <td>...</td>\n",
       "      <td>...</td>\n",
       "      <td>...</td>\n",
       "      <td>...</td>\n",
       "      <td>...</td>\n",
       "      <td>...</td>\n",
       "      <td>...</td>\n",
       "      <td>...</td>\n",
       "      <td>...</td>\n",
       "    </tr>\n",
       "    <tr>\n",
       "      <th>886</th>\n",
       "      <td>887</td>\n",
       "      <td>0</td>\n",
       "      <td>Montvila, Rev. Juozas</td>\n",
       "      <td>0</td>\n",
       "      <td>0</td>\n",
       "      <td>0</td>\n",
       "      <td>211536</td>\n",
       "      <td>13.0000</td>\n",
       "      <td>B96 B98</td>\n",
       "      <td>S</td>\n",
       "      <td>0</td>\n",
       "      <td>1</td>\n",
       "      <td>0</td>\n",
       "      <td>0</td>\n",
       "      <td>1</td>\n",
       "    </tr>\n",
       "    <tr>\n",
       "      <th>887</th>\n",
       "      <td>888</td>\n",
       "      <td>1</td>\n",
       "      <td>Graham, Miss. Margaret Edith</td>\n",
       "      <td>0</td>\n",
       "      <td>0</td>\n",
       "      <td>0</td>\n",
       "      <td>112053</td>\n",
       "      <td>30.0000</td>\n",
       "      <td>B42</td>\n",
       "      <td>S</td>\n",
       "      <td>1</td>\n",
       "      <td>0</td>\n",
       "      <td>0</td>\n",
       "      <td>1</td>\n",
       "      <td>0</td>\n",
       "    </tr>\n",
       "    <tr>\n",
       "      <th>888</th>\n",
       "      <td>889</td>\n",
       "      <td>0</td>\n",
       "      <td>Johnston, Miss. Catherine Helen \"Carrie\"</td>\n",
       "      <td>0</td>\n",
       "      <td>1</td>\n",
       "      <td>2</td>\n",
       "      <td>W./C. 6607</td>\n",
       "      <td>23.4500</td>\n",
       "      <td>B96 B98</td>\n",
       "      <td>S</td>\n",
       "      <td>0</td>\n",
       "      <td>0</td>\n",
       "      <td>1</td>\n",
       "      <td>1</td>\n",
       "      <td>0</td>\n",
       "    </tr>\n",
       "    <tr>\n",
       "      <th>889</th>\n",
       "      <td>890</td>\n",
       "      <td>1</td>\n",
       "      <td>Behr, Mr. Karl Howell</td>\n",
       "      <td>0</td>\n",
       "      <td>0</td>\n",
       "      <td>0</td>\n",
       "      <td>111369</td>\n",
       "      <td>30.0000</td>\n",
       "      <td>C148</td>\n",
       "      <td>C</td>\n",
       "      <td>1</td>\n",
       "      <td>0</td>\n",
       "      <td>0</td>\n",
       "      <td>0</td>\n",
       "      <td>1</td>\n",
       "    </tr>\n",
       "    <tr>\n",
       "      <th>890</th>\n",
       "      <td>891</td>\n",
       "      <td>0</td>\n",
       "      <td>Dooley, Mr. Patrick</td>\n",
       "      <td>0</td>\n",
       "      <td>0</td>\n",
       "      <td>0</td>\n",
       "      <td>370376</td>\n",
       "      <td>7.7500</td>\n",
       "      <td>B96 B98</td>\n",
       "      <td>Q</td>\n",
       "      <td>0</td>\n",
       "      <td>0</td>\n",
       "      <td>1</td>\n",
       "      <td>0</td>\n",
       "      <td>1</td>\n",
       "    </tr>\n",
       "  </tbody>\n",
       "</table>\n",
       "<p>891 rows × 15 columns</p>\n",
       "</div>"
      ],
      "text/plain": [
       "     PassengerId  Survived                                               Name  \\\n",
       "0              1         0                            Braund, Mr. Owen Harris   \n",
       "1              2         1  Cumings, Mrs. John Bradley (Florence Briggs Th...   \n",
       "2              3         1                             Heikkinen, Miss. Laina   \n",
       "3              4         1       Futrelle, Mrs. Jacques Heath (Lily May Peel)   \n",
       "4              5         0                           Allen, Mr. William Henry   \n",
       "..           ...       ...                                                ...   \n",
       "886          887         0                              Montvila, Rev. Juozas   \n",
       "887          888         1                       Graham, Miss. Margaret Edith   \n",
       "888          889         0           Johnston, Miss. Catherine Helen \"Carrie\"   \n",
       "889          890         1                              Behr, Mr. Karl Howell   \n",
       "890          891         0                                Dooley, Mr. Patrick   \n",
       "\n",
       "     Age  SibSp  Parch            Ticket     Fare    Cabin Embarked  Pclass_1  \\\n",
       "0      0      1      0         A/5 21171   7.2500  B96 B98        S         0   \n",
       "1      0      1      0          PC 17599  71.2833      C85        C         1   \n",
       "2      0      0      0  STON/O2. 3101282   7.9250  B96 B98        S         0   \n",
       "3      0      1      0            113803  53.1000     C123        S         1   \n",
       "4      0      0      0            373450   8.0500  B96 B98        S         0   \n",
       "..   ...    ...    ...               ...      ...      ...      ...       ...   \n",
       "886    0      0      0            211536  13.0000  B96 B98        S         0   \n",
       "887    0      0      0            112053  30.0000      B42        S         1   \n",
       "888    0      1      2        W./C. 6607  23.4500  B96 B98        S         0   \n",
       "889    0      0      0            111369  30.0000     C148        C         1   \n",
       "890    0      0      0            370376   7.7500  B96 B98        Q         0   \n",
       "\n",
       "     Pclass_2  Pclass_3  Sex_female  Sex_male  \n",
       "0           0         1           0         1  \n",
       "1           0         0           1         0  \n",
       "2           0         1           1         0  \n",
       "3           0         0           1         0  \n",
       "4           0         1           0         1  \n",
       "..        ...       ...         ...       ...  \n",
       "886         1         0           0         1  \n",
       "887         0         0           1         0  \n",
       "888         0         1           1         0  \n",
       "889         0         0           0         1  \n",
       "890         0         1           0         1  \n",
       "\n",
       "[891 rows x 15 columns]"
      ]
     },
     "execution_count": 35,
     "metadata": {},
     "output_type": "execute_result"
    }
   ],
   "source": [
    "data3 = New_col(data2,\"Age\")\n",
    "data3"
   ]
  },
  {
   "cell_type": "code",
   "execution_count": 36,
   "metadata": {
    "execution": {
     "iopub.execute_input": "2020-12-08T12:17:26.060140Z",
     "iopub.status.busy": "2020-12-08T12:17:26.059308Z",
     "iopub.status.idle": "2020-12-08T12:17:26.065957Z",
     "shell.execute_reply": "2020-12-08T12:17:26.065153Z"
    },
    "papermill": {
     "duration": 0.075842,
     "end_time": "2020-12-08T12:17:26.066081",
     "exception": false,
     "start_time": "2020-12-08T12:17:25.990239",
     "status": "completed"
    },
    "tags": []
   },
   "outputs": [],
   "source": [
    "survived = data3[data3.Survived == 1]\n",
    "dead = data3[data3.Survived == 0]"
   ]
  },
  {
   "cell_type": "code",
   "execution_count": 37,
   "metadata": {
    "execution": {
     "iopub.execute_input": "2020-12-08T12:17:26.202256Z",
     "iopub.status.busy": "2020-12-08T12:17:26.200802Z",
     "iopub.status.idle": "2020-12-08T12:17:26.517845Z",
     "shell.execute_reply": "2020-12-08T12:17:26.517073Z"
    },
    "papermill": {
     "duration": 0.38794,
     "end_time": "2020-12-08T12:17:26.517970",
     "exception": false,
     "start_time": "2020-12-08T12:17:26.130030",
     "status": "completed"
    },
    "tags": []
   },
   "outputs": [
    {
     "data": {
      "image/png": "[encoded data removed]",
      "text/plain": [
       "<Figure size 1800x720 with 1 Axes>"
      ]
     },
     "metadata": {
      "needs_background": "light"
     },
     "output_type": "display_data"
    }
   ],
   "source": [
    "plt.figure(figsize=(25,10))\n",
    "plot_hist(\"Age\")"
   ]
  },
  {
   "cell_type": "code",
   "execution_count": 38,
   "metadata": {
    "execution": {
     "iopub.execute_input": "2020-12-08T12:17:26.655489Z",
     "iopub.status.busy": "2020-12-08T12:17:26.654712Z",
     "iopub.status.idle": "2020-12-08T12:17:26.657708Z",
     "shell.execute_reply": "2020-12-08T12:17:26.658260Z"
    },
    "papermill": {
     "duration": 0.075704,
     "end_time": "2020-12-08T12:17:26.658446",
     "exception": false,
     "start_time": "2020-12-08T12:17:26.582742",
     "status": "completed"
    },
    "tags": []
   },
   "outputs": [],
   "source": [
    "model_cols3 = [\"SibSp\",\"Parch\",\"Fare\",\"Pclass_1\",\"Pclass_2\",\"Pclass_3\",\"Sex_female\",\"Sex_male\",\"Age\"]\n",
    "X3,y3 = parse_model(x = data3.copy(), use_columns = model_cols3)"
   ]
  },
  {
   "cell_type": "code",
   "execution_count": 39,
   "metadata": {
    "execution": {
     "iopub.execute_input": "2020-12-08T12:17:26.804446Z",
     "iopub.status.busy": "2020-12-08T12:17:26.803121Z",
     "iopub.status.idle": "2020-12-08T12:17:26.839402Z",
     "shell.execute_reply": "2020-12-08T12:17:26.838684Z"
    },
    "papermill": {
     "duration": 0.116732,
     "end_time": "2020-12-08T12:17:26.839553",
     "exception": false,
     "start_time": "2020-12-08T12:17:26.722821",
     "status": "completed"
    },
    "tags": []
   },
   "outputs": [
    {
     "name": "stdout",
     "output_type": "stream",
     "text": [
      "accuracy en train  : 0.797752808988764\n",
      "accuracy en test  : 0.7988826815642458\n"
     ]
    }
   ],
   "source": [
    "x_train3,x_test3,y_train3,y_test3 = train_test_split(X3,y3,test_size = 0.2,random_state = 0)\n",
    "\n",
    "logit3 = LogisticRegression().fit(x_train3,y_train3)\n",
    "pred3 = logit3.predict(x_train3)\n",
    "print(\"accuracy en train  :\" ,accuracy_score(y_train3,pred3))\n",
    "\n",
    "pred_test3 = logit3.predict(x_test3)\n",
    "print(\"accuracy en test  :\" ,accuracy_score(y_test3,pred_test3))"
   ]
  },
  {
   "cell_type": "markdown",
   "metadata": {
    "papermill": {
     "duration": 0.066101,
     "end_time": "2020-12-08T12:17:26.973735",
     "exception": false,
     "start_time": "2020-12-08T12:17:26.907634",
     "status": "completed"
    },
    "tags": []
   },
   "source": [
    "Pas d'amelioration "
   ]
  },
  {
   "cell_type": "markdown",
   "metadata": {
    "papermill": {
     "duration": 0.065803,
     "end_time": "2020-12-08T12:17:27.105738",
     "exception": false,
     "start_time": "2020-12-08T12:17:27.039935",
     "status": "completed"
    },
    "tags": []
   },
   "source": [
    "# Est ce que cela est dû au titre?"
   ]
  },
  {
   "cell_type": "code",
   "execution_count": 40,
   "metadata": {
    "collapsed": true,
    "execution": {
     "iopub.execute_input": "2020-12-08T12:17:27.257373Z",
     "iopub.status.busy": "2020-12-08T12:17:27.256425Z",
     "iopub.status.idle": "2020-12-08T12:17:27.261134Z",
     "shell.execute_reply": "2020-12-08T12:17:27.260491Z"
    },
    "papermill": {
     "duration": 0.083386,
     "end_time": "2020-12-08T12:17:27.261256",
     "exception": false,
     "start_time": "2020-12-08T12:17:27.177870",
     "status": "completed"
    },
    "tags": []
   },
   "outputs": [
    {
     "data": {
      "text/plain": [
       "PassengerId      int64\n",
       "Survived         int64\n",
       "Name            object\n",
       "Age              int64\n",
       "SibSp            int64\n",
       "Parch            int64\n",
       "Ticket          object\n",
       "Fare           float64\n",
       "Cabin           object\n",
       "Embarked        object\n",
       "Pclass_1         uint8\n",
       "Pclass_2         uint8\n",
       "Pclass_3         uint8\n",
       "Sex_female       uint8\n",
       "Sex_male         uint8\n",
       "Titre           object\n",
       "dtype: object"
      ]
     },
     "execution_count": 40,
     "metadata": {},
     "output_type": "execute_result"
    }
   ],
   "source": [
    "data2[\"Titre\"] = data2[\"Name\"].apply(lambda x : x.split(\".\")[1])\n",
    "data2.dtypes"
   ]
  },
  {
   "cell_type": "code",
   "execution_count": 41,
   "metadata": {
    "execution": {
     "iopub.execute_input": "2020-12-08T12:17:27.404174Z",
     "iopub.status.busy": "2020-12-08T12:17:27.402737Z",
     "iopub.status.idle": "2020-12-08T12:17:27.447765Z",
     "shell.execute_reply": "2020-12-08T12:17:27.447004Z"
    },
    "papermill": {
     "duration": 0.119706,
     "end_time": "2020-12-08T12:17:27.447892",
     "exception": false,
     "start_time": "2020-12-08T12:17:27.328186",
     "status": "completed"
    },
    "tags": []
   },
   "outputs": [
    {
     "data": {
      "text/html": [
       "<div>\n",
       "<style scoped>\n",
       "    .dataframe tbody tr th:only-of-type {\n",
       "        vertical-align: middle;\n",
       "    }\n",
       "\n",
       "    .dataframe tbody tr th {\n",
       "        vertical-align: top;\n",
       "    }\n",
       "\n",
       "    .dataframe thead th {\n",
       "        text-align: right;\n",
       "    }\n",
       "</style>\n",
       "<table border=\"1\" class=\"dataframe\">\n",
       "  <thead>\n",
       "    <tr style=\"text-align: right;\">\n",
       "      <th></th>\n",
       "      <th>PassengerId</th>\n",
       "      <th>Survived</th>\n",
       "      <th>Name</th>\n",
       "      <th>Age</th>\n",
       "      <th>SibSp</th>\n",
       "      <th>Parch</th>\n",
       "      <th>Ticket</th>\n",
       "      <th>Fare</th>\n",
       "      <th>Cabin</th>\n",
       "      <th>Embarked</th>\n",
       "      <th>...</th>\n",
       "      <th>Titre_ William Rowe</th>\n",
       "      <th>Titre_ William Thomas</th>\n",
       "      <th>Titre_ William Thompson</th>\n",
       "      <th>Titre_ William Thompson (Edith Junkins)</th>\n",
       "      <th>Titre_ William Thornton II</th>\n",
       "      <th>Titre_ Wyckoff</th>\n",
       "      <th>Titre_ Yoto</th>\n",
       "      <th>Titre_ Youssef</th>\n",
       "      <th>Titre_ Yousseff</th>\n",
       "      <th>Titre_ of (Lucy Noel Martha Dyer-Edwards)</th>\n",
       "    </tr>\n",
       "  </thead>\n",
       "  <tbody>\n",
       "    <tr>\n",
       "      <th>0</th>\n",
       "      <td>1</td>\n",
       "      <td>0</td>\n",
       "      <td>Braund, Mr. Owen Harris</td>\n",
       "      <td>0</td>\n",
       "      <td>1</td>\n",
       "      <td>0</td>\n",
       "      <td>A/5 21171</td>\n",
       "      <td>7.2500</td>\n",
       "      <td>B96 B98</td>\n",
       "      <td>S</td>\n",
       "      <td>...</td>\n",
       "      <td>0</td>\n",
       "      <td>0</td>\n",
       "      <td>0</td>\n",
       "      <td>0</td>\n",
       "      <td>0</td>\n",
       "      <td>0</td>\n",
       "      <td>0</td>\n",
       "      <td>0</td>\n",
       "      <td>0</td>\n",
       "      <td>0</td>\n",
       "    </tr>\n",
       "    <tr>\n",
       "      <th>1</th>\n",
       "      <td>2</td>\n",
       "      <td>1</td>\n",
       "      <td>Cumings, Mrs. John Bradley (Florence Briggs Th...</td>\n",
       "      <td>0</td>\n",
       "      <td>1</td>\n",
       "      <td>0</td>\n",
       "      <td>PC 17599</td>\n",
       "      <td>71.2833</td>\n",
       "      <td>C85</td>\n",
       "      <td>C</td>\n",
       "      <td>...</td>\n",
       "      <td>0</td>\n",
       "      <td>0</td>\n",
       "      <td>0</td>\n",
       "      <td>0</td>\n",
       "      <td>0</td>\n",
       "      <td>0</td>\n",
       "      <td>0</td>\n",
       "      <td>0</td>\n",
       "      <td>0</td>\n",
       "      <td>0</td>\n",
       "    </tr>\n",
       "    <tr>\n",
       "      <th>2</th>\n",
       "      <td>3</td>\n",
       "      <td>1</td>\n",
       "      <td>Heikkinen, Miss. Laina</td>\n",
       "      <td>0</td>\n",
       "      <td>0</td>\n",
       "      <td>0</td>\n",
       "      <td>STON/O2. 3101282</td>\n",
       "      <td>7.9250</td>\n",
       "      <td>B96 B98</td>\n",
       "      <td>S</td>\n",
       "      <td>...</td>\n",
       "      <td>0</td>\n",
       "      <td>0</td>\n",
       "      <td>0</td>\n",
       "      <td>0</td>\n",
       "      <td>0</td>\n",
       "      <td>0</td>\n",
       "      <td>0</td>\n",
       "      <td>0</td>\n",
       "      <td>0</td>\n",
       "      <td>0</td>\n",
       "    </tr>\n",
       "    <tr>\n",
       "      <th>3</th>\n",
       "      <td>4</td>\n",
       "      <td>1</td>\n",
       "      <td>Futrelle, Mrs. Jacques Heath (Lily May Peel)</td>\n",
       "      <td>0</td>\n",
       "      <td>1</td>\n",
       "      <td>0</td>\n",
       "      <td>113803</td>\n",
       "      <td>53.1000</td>\n",
       "      <td>C123</td>\n",
       "      <td>S</td>\n",
       "      <td>...</td>\n",
       "      <td>0</td>\n",
       "      <td>0</td>\n",
       "      <td>0</td>\n",
       "      <td>0</td>\n",
       "      <td>0</td>\n",
       "      <td>0</td>\n",
       "      <td>0</td>\n",
       "      <td>0</td>\n",
       "      <td>0</td>\n",
       "      <td>0</td>\n",
       "    </tr>\n",
       "    <tr>\n",
       "      <th>4</th>\n",
       "      <td>5</td>\n",
       "      <td>0</td>\n",
       "      <td>Allen, Mr. William Henry</td>\n",
       "      <td>0</td>\n",
       "      <td>0</td>\n",
       "      <td>0</td>\n",
       "      <td>373450</td>\n",
       "      <td>8.0500</td>\n",
       "      <td>B96 B98</td>\n",
       "      <td>S</td>\n",
       "      <td>...</td>\n",
       "      <td>0</td>\n",
       "      <td>0</td>\n",
       "      <td>0</td>\n",
       "      <td>0</td>\n",
       "      <td>0</td>\n",
       "      <td>0</td>\n",
       "      <td>0</td>\n",
       "      <td>0</td>\n",
       "      <td>0</td>\n",
       "      <td>0</td>\n",
       "    </tr>\n",
       "    <tr>\n",
       "      <th>...</th>\n",
       "      <td>...</td>\n",
       "      <td>...</td>\n",
       "      <td>...</td>\n",
       "      <td>...</td>\n",
       "      <td>...</td>\n",
       "      <td>...</td>\n",
       "      <td>...</td>\n",
       "      <td>...</td>\n",
       "      <td>...</td>\n",
       "      <td>...</td>\n",
       "      <td>...</td>\n",
       "      <td>...</td>\n",
       "      <td>...</td>\n",
       "      <td>...</td>\n",
       "      <td>...</td>\n",
       "      <td>...</td>\n",
       "      <td>...</td>\n",
       "      <td>...</td>\n",
       "      <td>...</td>\n",
       "      <td>...</td>\n",
       "      <td>...</td>\n",
       "    </tr>\n",
       "    <tr>\n",
       "      <th>886</th>\n",
       "      <td>887</td>\n",
       "      <td>0</td>\n",
       "      <td>Montvila, Rev. Juozas</td>\n",
       "      <td>0</td>\n",
       "      <td>0</td>\n",
       "      <td>0</td>\n",
       "      <td>211536</td>\n",
       "      <td>13.0000</td>\n",
       "      <td>B96 B98</td>\n",
       "      <td>S</td>\n",
       "      <td>...</td>\n",
       "      <td>0</td>\n",
       "      <td>0</td>\n",
       "      <td>0</td>\n",
       "      <td>0</td>\n",
       "      <td>0</td>\n",
       "      <td>0</td>\n",
       "      <td>0</td>\n",
       "      <td>0</td>\n",
       "      <td>0</td>\n",
       "      <td>0</td>\n",
       "    </tr>\n",
       "    <tr>\n",
       "      <th>887</th>\n",
       "      <td>888</td>\n",
       "      <td>1</td>\n",
       "      <td>Graham, Miss. Margaret Edith</td>\n",
       "      <td>0</td>\n",
       "      <td>0</td>\n",
       "      <td>0</td>\n",
       "      <td>112053</td>\n",
       "      <td>30.0000</td>\n",
       "      <td>B42</td>\n",
       "      <td>S</td>\n",
       "      <td>...</td>\n",
       "      <td>0</td>\n",
       "      <td>0</td>\n",
       "      <td>0</td>\n",
       "      <td>0</td>\n",
       "      <td>0</td>\n",
       "      <td>0</td>\n",
       "      <td>0</td>\n",
       "      <td>0</td>\n",
       "      <td>0</td>\n",
       "      <td>0</td>\n",
       "    </tr>\n",
       "    <tr>\n",
       "      <th>888</th>\n",
       "      <td>889</td>\n",
       "      <td>0</td>\n",
       "      <td>Johnston, Miss. Catherine Helen \"Carrie\"</td>\n",
       "      <td>0</td>\n",
       "      <td>1</td>\n",
       "      <td>2</td>\n",
       "      <td>W./C. 6607</td>\n",
       "      <td>23.4500</td>\n",
       "      <td>B96 B98</td>\n",
       "      <td>S</td>\n",
       "      <td>...</td>\n",
       "      <td>0</td>\n",
       "      <td>0</td>\n",
       "      <td>0</td>\n",
       "      <td>0</td>\n",
       "      <td>0</td>\n",
       "      <td>0</td>\n",
       "      <td>0</td>\n",
       "      <td>0</td>\n",
       "      <td>0</td>\n",
       "      <td>0</td>\n",
       "    </tr>\n",
       "    <tr>\n",
       "      <th>889</th>\n",
       "      <td>890</td>\n",
       "      <td>1</td>\n",
       "      <td>Behr, Mr. Karl Howell</td>\n",
       "      <td>0</td>\n",
       "      <td>0</td>\n",
       "      <td>0</td>\n",
       "      <td>111369</td>\n",
       "      <td>30.0000</td>\n",
       "      <td>C148</td>\n",
       "      <td>C</td>\n",
       "      <td>...</td>\n",
       "      <td>0</td>\n",
       "      <td>0</td>\n",
       "      <td>0</td>\n",
       "      <td>0</td>\n",
       "      <td>0</td>\n",
       "      <td>0</td>\n",
       "      <td>0</td>\n",
       "      <td>0</td>\n",
       "      <td>0</td>\n",
       "      <td>0</td>\n",
       "    </tr>\n",
       "    <tr>\n",
       "      <th>890</th>\n",
       "      <td>891</td>\n",
       "      <td>0</td>\n",
       "      <td>Dooley, Mr. Patrick</td>\n",
       "      <td>0</td>\n",
       "      <td>0</td>\n",
       "      <td>0</td>\n",
       "      <td>370376</td>\n",
       "      <td>7.7500</td>\n",
       "      <td>B96 B98</td>\n",
       "      <td>Q</td>\n",
       "      <td>...</td>\n",
       "      <td>0</td>\n",
       "      <td>0</td>\n",
       "      <td>0</td>\n",
       "      <td>0</td>\n",
       "      <td>0</td>\n",
       "      <td>0</td>\n",
       "      <td>0</td>\n",
       "      <td>0</td>\n",
       "      <td>0</td>\n",
       "      <td>0</td>\n",
       "    </tr>\n",
       "  </tbody>\n",
       "</table>\n",
       "<p>891 rows × 814 columns</p>\n",
       "</div>"
      ],
      "text/plain": [
       "     PassengerId  Survived                                               Name  \\\n",
       "0              1         0                            Braund, Mr. Owen Harris   \n",
       "1              2         1  Cumings, Mrs. John Bradley (Florence Briggs Th...   \n",
       "2              3         1                             Heikkinen, Miss. Laina   \n",
       "3              4         1       Futrelle, Mrs. Jacques Heath (Lily May Peel)   \n",
       "4              5         0                           Allen, Mr. William Henry   \n",
       "..           ...       ...                                                ...   \n",
       "886          887         0                              Montvila, Rev. Juozas   \n",
       "887          888         1                       Graham, Miss. Margaret Edith   \n",
       "888          889         0           Johnston, Miss. Catherine Helen \"Carrie\"   \n",
       "889          890         1                              Behr, Mr. Karl Howell   \n",
       "890          891         0                                Dooley, Mr. Patrick   \n",
       "\n",
       "     Age  SibSp  Parch            Ticket     Fare    Cabin Embarked  ...  \\\n",
       "0      0      1      0         A/5 21171   7.2500  B96 B98        S  ...   \n",
       "1      0      1      0          PC 17599  71.2833      C85        C  ...   \n",
       "2      0      0      0  STON/O2. 3101282   7.9250  B96 B98        S  ...   \n",
       "3      0      1      0            113803  53.1000     C123        S  ...   \n",
       "4      0      0      0            373450   8.0500  B96 B98        S  ...   \n",
       "..   ...    ...    ...               ...      ...      ...      ...  ...   \n",
       "886    0      0      0            211536  13.0000  B96 B98        S  ...   \n",
       "887    0      0      0            112053  30.0000      B42        S  ...   \n",
       "888    0      1      2        W./C. 6607  23.4500  B96 B98        S  ...   \n",
       "889    0      0      0            111369  30.0000     C148        C  ...   \n",
       "890    0      0      0            370376   7.7500  B96 B98        Q  ...   \n",
       "\n",
       "     Titre_ William Rowe  Titre_ William Thomas  Titre_ William Thompson  \\\n",
       "0                      0                      0                        0   \n",
       "1                      0                      0                        0   \n",
       "2                      0                      0                        0   \n",
       "3                      0                      0                        0   \n",
       "4                      0                      0                        0   \n",
       "..                   ...                    ...                      ...   \n",
       "886                    0                      0                        0   \n",
       "887                    0                      0                        0   \n",
       "888                    0                      0                        0   \n",
       "889                    0                      0                        0   \n",
       "890                    0                      0                        0   \n",
       "\n",
       "     Titre_ William Thompson (Edith Junkins)  Titre_ William Thornton II  \\\n",
       "0                                          0                           0   \n",
       "1                                          0                           0   \n",
       "2                                          0                           0   \n",
       "3                                          0                           0   \n",
       "4                                          0                           0   \n",
       "..                                       ...                         ...   \n",
       "886                                        0                           0   \n",
       "887                                        0                           0   \n",
       "888                                        0                           0   \n",
       "889                                        0                           0   \n",
       "890                                        0                           0   \n",
       "\n",
       "     Titre_ Wyckoff  Titre_ Yoto  Titre_ Youssef  Titre_ Yousseff  \\\n",
       "0                 0            0               0                0   \n",
       "1                 0            0               0                0   \n",
       "2                 0            0               0                0   \n",
       "3                 0            0               0                0   \n",
       "4                 0            0               0                0   \n",
       "..              ...          ...             ...              ...   \n",
       "886               0            0               0                0   \n",
       "887               0            0               0                0   \n",
       "888               0            0               0                0   \n",
       "889               0            0               0                0   \n",
       "890               0            0               0                0   \n",
       "\n",
       "     Titre_ of (Lucy Noel Martha Dyer-Edwards)  \n",
       "0                                            0  \n",
       "1                                            0  \n",
       "2                                            0  \n",
       "3                                            0  \n",
       "4                                            0  \n",
       "..                                         ...  \n",
       "886                                          0  \n",
       "887                                          0  \n",
       "888                                          0  \n",
       "889                                          0  \n",
       "890                                          0  \n",
       "\n",
       "[891 rows x 814 columns]"
      ]
     },
     "execution_count": 41,
     "metadata": {},
     "output_type": "execute_result"
    }
   ],
   "source": [
    "data2 =  pd.get_dummies(data2,columns=[\"Titre\"])\n",
    "data2"
   ]
  },
  {
   "cell_type": "code",
   "execution_count": 42,
   "metadata": {
    "collapsed": true,
    "execution": {
     "iopub.execute_input": "2020-12-08T12:17:27.589907Z",
     "iopub.status.busy": "2020-12-08T12:17:27.589016Z",
     "iopub.status.idle": "2020-12-08T12:17:27.594335Z",
     "shell.execute_reply": "2020-12-08T12:17:27.593667Z"
    },
    "papermill": {
     "duration": 0.079892,
     "end_time": "2020-12-08T12:17:27.594465",
     "exception": false,
     "start_time": "2020-12-08T12:17:27.514573",
     "status": "completed"
    },
    "tags": []
   },
   "outputs": [
    {
     "data": {
      "text/plain": [
       "PassengerId                                   int64\n",
       "Survived                                      int64\n",
       "Name                                         object\n",
       "Age                                           int64\n",
       "SibSp                                         int64\n",
       "                                              ...  \n",
       "Titre_ Wyckoff                                uint8\n",
       "Titre_ Yoto                                   uint8\n",
       "Titre_ Youssef                                uint8\n",
       "Titre_ Yousseff                               uint8\n",
       "Titre_ of (Lucy Noel Martha Dyer-Edwards)     uint8\n",
       "Length: 814, dtype: object"
      ]
     },
     "execution_count": 42,
     "metadata": {},
     "output_type": "execute_result"
    }
   ],
   "source": [
    "data2.dtypes"
   ]
  }
 ],
 "metadata": {
  "kernelspec": {
   "display_name": "Python 3",
   "language": "python",
   "name": "python3"
  },
  "language_info": {
   "codemirror_mode": {
    "name": "ipython",
    "version": 3
   },
   "file_extension": ".py",
   "mimetype": "text/x-python",
   "name": "python",
   "nbconvert_exporter": "python",
   "pygments_lexer": "ipython3",
   "version": "3.7.6"
  },
  "papermill": {
   "duration": 16.518518,
   "end_time": "2020-12-08T12:17:27.770016",
   "environment_variables": {},
   "exception": null,
   "input_path": "__notebook__.ipynb",
   "output_path": "__notebook__.ipynb",
   "parameters": {},
   "start_time": "2020-12-08T12:17:11.251498",
   "version": "2.1.0"
  }
 },
 "nbformat": 4,
 "nbformat_minor": 4
}
